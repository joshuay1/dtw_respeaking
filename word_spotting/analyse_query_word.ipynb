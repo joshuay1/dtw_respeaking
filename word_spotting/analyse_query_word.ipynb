{
 "cells": [
  {
   "cell_type": "code",
   "execution_count": 34,
   "metadata": {},
   "outputs": [],
   "source": [
    "import pandas as pd\n",
    "from os import path\n",
    "import matplotlib.pyplot as plt\n",
    "import seaborn as sns\n",
    "from matplotlib.pyplot import plot, title, xlabel, ylabel, savefig, legend, ylim\n",
    "from numpy import array, arange\n",
    "from statistics import mean\n",
    "import glob\n",
    "\n",
    "words_dir = 'english_words/500_common'\n",
    "word_txt = 'common_words_*.txt'\n",
    "ftitle = '500_common_words_with_respeaking'\n",
    "plot_title = ' (500 Common Words + Respeaking)'\n",
    "data = pd.read_pickle(ftitle+'.data')"
   ]
  },
  {
   "cell_type": "code",
   "execution_count": 35,
   "metadata": {},
   "outputs": [],
   "source": [
    "word_dict = []\n",
    "for txt_fn in sorted(glob.glob(path.join(words_dir, word_txt))):\n",
    "    txt_file = open(txt_fn, \"r\")\n",
    "    query = txt_file.read()\n",
    "    word_dict.append(query.lower())"
   ]
  },
  {
   "cell_type": "code",
   "execution_count": 39,
   "metadata": {},
   "outputs": [
    {
     "name": "stdout",
     "output_type": "stream",
     "text": [
      "346 873 1314 53467\n"
     ]
    }
   ],
   "source": [
    "tp = []\n",
    "fn = []\n",
    "fp = []\n",
    "tn = []\n",
    "dtw_threshold = 0.28522107752155723\n",
    "\n",
    "for sent in data['result']:\n",
    "    for index, dtw in enumerate(sent['correct_dtw']):\n",
    "        if dtw < dtw_threshold:\n",
    "            tp.append(sent['correct_words'][index])\n",
    "        else:\n",
    "            fn.append(sent['correct_words'][index])\n",
    "    \n",
    "    for index, dtw in enumerate(sent['incorrect_dtw']):\n",
    "        if dtw < dtw_threshold:\n",
    "            fp.append(sent['incorrect_words'][index])\n",
    "        else:\n",
    "            tn.append(sent['incorrect_words'][index])\n",
    "print(len(tp), len(fn), len(fp), len(tn))"
   ]
  },
  {
   "cell_type": "code",
   "execution_count": 43,
   "metadata": {},
   "outputs": [
    {
     "name": "stdout",
     "output_type": "stream",
     "text": [
      "5.1531791907514455\n",
      "3.429553264604811\n",
      "4.187214611872146\n",
      "5.027867656685432\n"
     ]
    }
   ],
   "source": [
    "print(mean([len(i) for i in tp]))\n",
    "print(mean([len(i) for i in fn]))\n",
    "print(mean([len(i) for i in fp]))\n",
    "print(mean([len(i) for i in tn]))"
   ]
  },
  {
   "cell_type": "code",
   "execution_count": null,
   "metadata": {},
   "outputs": [],
   "source": [
    "for i in range(3,20):\n",
    "    "
   ]
  },
  {
   "cell_type": "code",
   "execution_count": 24,
   "metadata": {},
   "outputs": [],
   "source": [
    "match_dic = {}\n",
    "nomatch_dic = {}\n",
    "for word in word_dict:\n",
    "    match_dic[word]=[]\n",
    "    nomatch_dic[word]=[]\n",
    "\n",
    "for sent in data['result']:\n",
    "    i = 0\n",
    "    #print(sent)\n",
    "    for word in sent['correct_words']:\n",
    "        match_dic[word].append(sent['correct_dtw'][i])\n",
    "        i+=1\n",
    "    j = 0    \n",
    "    for word in sent['incorrect_words']:\n",
    "        nomatch_dic[word].append(sent['incorrect_dtw'][j])\n",
    "        j+=1"
   ]
  },
  {
   "cell_type": "code",
   "execution_count": 30,
   "metadata": {},
   "outputs": [
    {
     "name": "stdout",
     "output_type": "stream",
     "text": [
      "17 0 90 5\n",
      "19 0 78 15\n",
      "6 3 103 0\n",
      "12 1 96 3\n",
      "7 1 98 6\n",
      "8 2 102 0\n",
      "7 0 105 0\n",
      "5 0 105 2\n",
      "5 0 102 5\n",
      "5 0 107 0\n",
      "2 3 107 0\n",
      "5 0 107 0\n",
      "5 0 107 0\n",
      "5 0 107 0\n",
      "4 0 107 1\n",
      "1 2 109 0\n",
      "4 0 108 0\n",
      "4 0 105 3\n",
      "3 0 109 0\n",
      "3 0 109 0\n",
      "3 0 109 0\n",
      "3 0 109 0\n",
      "2 1 108 1\n",
      "1 1 110 0\n",
      "3 0 108 1\n",
      "2 1 109 0\n",
      "2 1 106 3\n",
      "1 1 109 1\n",
      "1 2 108 1\n",
      "2 0 110 0\n",
      "1 0 110 1\n",
      "1 1 110 0\n",
      "2 0 110 0\n",
      "0 1 110 1\n",
      "2 0 110 0\n",
      "1 0 111 0\n",
      "2 0 110 0\n",
      "0 2 110 0\n",
      "2 0 109 1\n",
      "2 0 110 0\n",
      "2 0 108 2\n",
      "2 0 110 0\n",
      "1 0 111 0\n",
      "2 0 110 0\n",
      "1 1 110 0\n",
      "2 0 109 1\n",
      "1 0 111 0\n",
      "0 1 111 0\n",
      "1 0 111 0\n",
      "1 0 111 0\n"
     ]
    }
   ],
   "source": [
    "dtw_threshold = 0.28522107752155723\n",
    "for word in word_dict:\n",
    "    true_pos = len(list(filter(lambda x: x <= dtw_threshold, match_dic[word])))\n",
    "    false_neg = len(list(filter(lambda x: x > dtw_threshold, match_dic[word])))\n",
    "    true_neg = len(list(filter(lambda x: x > dtw_threshold, nomatch_dic[word])))\n",
    "    false_pos = len(list(filter(lambda x: x <= dtw_threshold, nomatch_dic[word])))\n",
    "    print(true_pos, false_neg, true_neg, false_pos)\n",
    "    #precision = true_pos/(true_pos+false_pos)\n",
    "    #recall = true_pos/(true_pos+false_neg)\n",
    "    #print(word,precision,recall)"
   ]
  },
  {
   "cell_type": "code",
   "execution_count": 9,
   "metadata": {},
   "outputs": [
    {
     "data": {
      "image/png": "[encoded data removed]",
      "text/plain": [
       "<Figure size 432x288 with 1 Axes>"
      ]
     },
     "metadata": {
      "needs_background": "light"
     },
     "output_type": "display_data"
    }
   ],
   "source": [
    "sns.kdeplot(x['match_dtw'], shade=True, linewidth = 3, label = 'Correct words')\n",
    "sns.kdeplot(x['nomatch_dtw'], shade=True, linewidth = 3, label = 'Incorrect words')\n",
    "    \n",
    "# Plot formatting\n",
    "plt.legend(prop={'size': 12})\n",
    "plt.title('Search Query DTW Cost ' + plot_title)\n",
    "plt.xlabel('DTW Cost')\n",
    "plt.ylabel('Density')\n",
    "plt.savefig(ftitle+'_dtw.png', dpi=400)"
   ]
  },
  {
   "cell_type": "code",
   "execution_count": null,
   "metadata": {},
   "outputs": [],
   "source": []
  }
 ],
 "metadata": {
  "kernelspec": {
   "display_name": "Python 3",
   "language": "python",
   "name": "python3"
  },
  "language_info": {
   "codemirror_mode": {
    "name": "ipython",
    "version": 3
   },
   "file_extension": ".py",
   "mimetype": "text/x-python",
   "name": "python",
   "nbconvert_exporter": "python",
   "pygments_lexer": "ipython3",
   "version": "3.7.6"
  }
 },
 "nbformat": 4,
 "nbformat_minor": 4
}
