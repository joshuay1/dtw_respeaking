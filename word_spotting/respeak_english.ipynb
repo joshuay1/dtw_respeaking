{
 "cells": [
  {
   "cell_type": "markdown",
   "metadata": {},
   "source": [
    "# Query-by-Example (QbE) Search Using DTW"
   ]
  },
  {
   "cell_type": "markdown",
   "metadata": {},
   "source": [
    "## Preliminary"
   ]
  },
  {
   "cell_type": "code",
   "execution_count": 1,
   "metadata": {},
   "outputs": [],
   "source": [
    "%matplotlib inline\n",
    "%load_ext autoreload\n",
    "%autoreload 2"
   ]
  },
  {
   "cell_type": "code",
   "execution_count": 2,
   "metadata": {},
   "outputs": [
    {
     "name": "stderr",
     "output_type": "stream",
     "text": [
      "/home/josh/miniconda3/lib/python3.7/site-packages/pydub/utils.py:165: RuntimeWarning: Couldn't find ffmpeg or avconv - defaulting to ffmpeg, but may not work\n",
      "  warn(\"Couldn't find ffmpeg or avconv - defaulting to ffmpeg, but may not work\", RuntimeWarning)\n",
      "/home/josh/miniconda3/lib/python3.7/site-packages/pydub/utils.py:179: RuntimeWarning: Couldn't find ffplay or avplay - defaulting to ffplay, but may not work\n",
      "  warn(\"Couldn't find ffplay or avplay - defaulting to ffplay, but may not work\", RuntimeWarning)\n",
      "[nltk_data] Downloading package punkt to /home/josh/nltk_data...\n",
      "[nltk_data]   Package punkt is already up-to-date!\n"
     ]
    }
   ],
   "source": [
    "from __future__ import division\n",
    "from __future__ import print_function\n",
    "from os import path\n",
    "from python_speech_features import delta\n",
    "from python_speech_features import mfcc\n",
    "import glob\n",
    "import matplotlib.pyplot as plt\n",
    "import numpy as np\n",
    "import scipy.io.wavfile as wav\n",
    "import sys\n",
    "import simpleaudio as sa\n",
    "from pydub import AudioSegment\n",
    "from pydub.playback import play\n",
    "from shennong.audio import Audio\n",
    "from shennong.features.processor.mfcc import MfccProcessor\n",
    "from shennong.features.postprocessor.delta import DeltaPostProcessor\n",
    "from shennong.features.postprocessor.cmvn import CmvnPostProcessor\n",
    "from progress.bar import Bar\n",
    "from datetime import datetime\n",
    "from nltk import word_tokenize\n",
    "import nltk\n",
    "nltk.download('punkt')\n",
    "import Levenshtein as lev\n",
    "import pickle\n",
    "\n",
    "sys.path.append(\"..\")\n",
    "sys.path.append(path.join(\"..\", \"utils\"))\n",
    "\n",
    "from speech_dtw import qbe"
   ]
  },
  {
   "cell_type": "markdown",
   "metadata": {},
   "source": [
    "## Extract features"
   ]
  },
  {
   "cell_type": "code",
   "execution_count": 3,
   "metadata": {},
   "outputs": [],
   "source": [
    "def get_mfcc_dd(wav_fn):\n",
    "    \"\"\"Return the MFCCs with deltas and delta-deltas for a audio file.\"\"\"\n",
    "    audio = Audio.load(wav_fn)\n",
    "    processor = MfccProcessor(sample_rate=audio.sample_rate, window_type=\"hamming\",frame_length=0.025, frame_shift=0.01,\n",
    "                              cepstral_lifter=26.0,low_freq=0, vtln_low=60, vtln_high=7200, high_freq=audio.sample_rate/2)\n",
    "    d_processor = DeltaPostProcessor(order=2)\n",
    "    mfcc_static = processor.process(audio.channel(1), vtln_warp=1.0)\n",
    "    mfcc_deltas = d_processor.process(mfcc_static)\n",
    "    #print(mfcc_static.shape, mfcc_deltas.shape)\n",
    "    features = mfcc_deltas._to_dict()[\"data\"]\n",
    "    features = (features - np.mean(features, axis=0)) / np.std(features, axis=0)\n",
    "    #print(features.shape)\n",
    "    return features"
   ]
  },
  {
   "cell_type": "code",
   "execution_count": 61,
   "metadata": {},
   "outputs": [],
   "source": [
    "#words_txt = 'english_words/common_words_500.txt'\n",
    "#words_dir = 'english_words/500_common'\n",
    "#word_wav = 'common_word_*.wav'\n",
    "ftitle = 'english_topic_words_with_respeaking'\n",
    "plot_title = '(English Topic Words With Respeaking)'\n",
    "#words_txt = 'english_words/redfern_words.txt'\n",
    "words_dir = 'english_words/redfern_josh'\n",
    "word_wav = '*.wav'\n",
    "target_speech_dir = 'redfern_rspk'\n",
    "#target_speech_dir = 'redfern_rspk'\n",
    "target_speech_txt = 'redfern_*.txt'\n",
    "target_speech_wav = 'redfern_*.wav'"
   ]
  },
  {
   "cell_type": "markdown",
   "metadata": {},
   "source": [
    "## Take Query Words"
   ]
  },
  {
   "cell_type": "code",
   "execution_count": 62,
   "metadata": {},
   "outputs": [
    {
     "name": "stderr",
     "output_type": "stream",
     "text": [
      "[nltk_data] Downloading package stopwords to /home/josh/nltk_data...\n",
      "[nltk_data]   Package stopwords is already up-to-date!\n"
     ]
    },
    {
     "name": "stdout",
     "output_type": "stream",
     "text": [
      "Aboriginal Australia people imagine justice Indigenous recognise Torres Strait social history identity reality beginning failed failure dispossessed Council opportunity fundamental democracy contained problems recognition prejudice living culture generation Islander committed knowledge contemporary demoralisation opponents remarkable traditional ignorance Commission practical partnership continent settlement contributions participation environment confident International significance persecution multicultural "
     ]
    }
   ],
   "source": [
    "from nltk.corpus import stopwords \n",
    "nltk.download('stopwords')\n",
    "stopwords = set(stopwords.words('english'))\n",
    "additional_stopwords = ['i','mr','and', 'says', 'oh', 'never', 'take', 'whatever', 'might', 'say', 'non', 'well', 'get', 'like', 'know', 'think', 'much', 'could', 'said', 'really', 'actually', 'cannot', 'us', 'things']\n",
    "new_stopwords = stopwords.union(additional_stopwords)\n",
    "word_list = []\n",
    "i = 0\n",
    "for wav_fn in sorted(glob.glob(path.join(words_dir, word_wav))):\n",
    "    if i < 300:\n",
    "        query = {} \n",
    "        txt_file = open(wav_fn.replace('wav','txt'), \"r\")\n",
    "        query[\"word\"] = txt_file.read()\n",
    "        if query[\"word\"] not in new_stopwords:\n",
    "            rate, signal = wav.read(wav_fn)\n",
    "            length = len(signal) / rate * 1000\n",
    "            query_mfcc = get_mfcc_dd(wav_fn)   \n",
    "            query[\"length\"] = length\n",
    "            query[\"data\"] = query_mfcc\n",
    "            print(query[\"word\"], end=' ')\n",
    "            query[\"audio\"] = AudioSegment.from_file(wav_fn, format=\"wav\")\n",
    "            query[\"thres\"] = 1\n",
    "            #play(query[\"audio\"])\n",
    "            word_list.append(query)\n",
    "            i+=1\n",
    "    else:\n",
    "        break"
   ]
  },
  {
   "cell_type": "code",
   "execution_count": 63,
   "metadata": {},
   "outputs": [
    {
     "name": "stdout",
     "output_type": "stream",
     "text": [
      "50\n",
      "people\n",
      "(119, 39)\n"
     ]
    }
   ],
   "source": [
    "print(len(word_list))\n",
    "print(word_list[2][\"word\"])\n",
    "play(word_list[2][\"audio\"])\n",
    "print(query[\"data\"].shape)"
   ]
  },
  {
   "cell_type": "markdown",
   "metadata": {},
   "source": [
    "## Take Target Speech Utterances"
   ]
  },
  {
   "cell_type": "code",
   "execution_count": 65,
   "metadata": {},
   "outputs": [
    {
     "name": "stdout",
     "output_type": "stream",
     "text": [
      "This is a fundamental test of our social goals and our national will:\n"
     ]
    }
   ],
   "source": [
    "speech_utt = []\n",
    "for wav_fn in sorted(glob.glob(path.join(target_speech_dir, target_speech_wav))):\n",
    "    dic = {}\n",
    "    dic[\"audio\"] = AudioSegment.from_file(wav_fn, format=\"wav\")\n",
    "    dic[\"data\"] = get_mfcc_dd(wav_fn)\n",
    "    txt_file = open(wav_fn.replace('wav','txt'), \"r\")\n",
    "    dic[\"word\"] = txt_file.read()\n",
    "    speech_utt.append(dic)\n",
    "\n",
    "print(speech_utt[5]['word'])  \n",
    "#play(speech_utt[5]['audio'])"
   ]
  },
  {
   "cell_type": "code",
   "execution_count": 66,
   "metadata": {},
   "outputs": [
    {
     "name": "stdout",
     "output_type": "stream",
     "text": [
      "identity\n",
      "It will be a year of great significance for Australia.\n"
     ]
    },
    {
     "data": {
      "text/plain": [
       "[<matplotlib.lines.Line2D at 0x7f8b11d49b50>]"
      ]
     },
     "execution_count": 66,
     "metadata": {},
     "output_type": "execute_result"
    },
    {
     "data": {
      "image/png": "[encoded data removed]",
      "text/plain": [
       "<Figure size 432x288 with 1 Axes>"
      ]
     },
     "metadata": {
      "needs_background": "light"
     },
     "output_type": "display_data"
    }
   ],
   "source": [
    "print(word_list[11][\"word\"])\n",
    "print(speech_utt[2][\"word\"])\n",
    "#print(redfern_word_list[1][\"data\"], redfern_rspk[2][\"data\"])\n",
    "#print(np.float64(redfern_word_list[1][\"data\"]), np.float64(redfern_rspk[2][\"data\"]))\n",
    "sweep_original = qbe.dtw_sweep(np.float64(word_list[11][\"data\"]), np.float64(speech_utt[2][\"data\"]))\n",
    "plt.plot(sweep_original,color='green')\n",
    "#play(word_list[11]['audio'])\n",
    "#play(speech_utt[2][\"audio\"])"
   ]
  },
  {
   "cell_type": "code",
   "execution_count": 67,
   "metadata": {},
   "outputs": [
    {
     "name": "stdout",
     "output_type": "stream",
     "text": [
      "112\n"
     ]
    }
   ],
   "source": [
    "print(len(speech_utt))"
   ]
  },
  {
   "cell_type": "code",
   "execution_count": null,
   "metadata": {},
   "outputs": [
    {
     "name": "stdout",
     "output_type": "stream",
     "text": [
      "0 Ladies and gentlemen.\n",
      "1 I am very pleased to be here today at the launch of Australia's celebration of the nineteen ninety three International Year of the World's Indigenous People.\n",
      "2 It will be a year of great significance for Australia.\n",
      "3 It comes at a time when we have committed ourselves to succeeding in the test which so far we've always failed.\n",
      "4 Because, in truth, we cannot confidently say that we succeeded if we have not managed to extend opportunity and care, dignity and hope to the indigenous people of Australia - the Aboriginal and Torres Strait Island people.\n",
      "5 This is a fundamental test of our social goals and our national will:\n",
      "6 our ability to say to ourselves and the rest of the world that Australia is a first rate social democracy, that we are what we should be - truly the land of the fair go and the better chance.\n",
      "7 There is no more basic test I think, of how seriously we mean these things.\n",
      "8 It is a test of our self-knowledge.\n",
      "9 Of how well we know the land we live in.\n",
      "10 How well we know our history.\n",
      "11 Ever so gradually we are learning to see Australia through Aboriginal eyes, beginning to recognise the wisdom contained in their epic story.\n",
      "12 I think we are beginning to see how much we owe the Indigenous Australians and how much we have lost by living so apart.\n",
      "13 I said we non-Indigenous Australians should try to imagine the Aboriginal view.\n",
      "14 It can't be too hard.\n",
      "15 Someone imagined this event today, and it is now a reality and a great reason for hope.\n",
      "16 There is one thing today we cannot imagine.\n",
      "17 We cannot imagine that the descendants of people whose genius and resilience maintained a culture here through fifty thousand years or more, through cataclysmic changes to the climate and environment, and who then survived two centuries of dispossession and abuse, will be denied their place in the modern Australian nation.\n",
      "18 We cannot imagine that.\n",
      "19 We cannot imagine that we will fail.\n",
      "20 And with the spirit that is here today I am confident that we won't fail.\n",
      "21 How well we recognise the fact that, complex as our contemporary identity is, it cannot be separated from Aboriginal Australia.\n",
      "22 I am confident that we will succeed in this decade.\n",
      "23 Thank you very much for listening to me.\n",
      "24 How well we know what Aboriginal Australians know about Australia.\n",
      "25 Redfern is a good place to contemplate these things.\n",
      "26 Just a mile or two from this place where the first European settlers landed in too many ways it tells us that the failure to bring much more than devastation and demoralisation to Aboriginal Australia continues to be our failure.\n",
      "27 The more I think and most Australian's recognise the plight of Aboriginal Australians affects us all.\n",
      "28 In Redfern it might be tempting to think that the reality Aboriginal Australia's face is somehow contained here and that the rest of us are insulated from it.\n",
      "29 But of course while all the dilemmas may exist here as we all know they're far from contained.\n",
      "30 We know the same dilemmas and more are faced all over Australia.\n",
      "31 That is perhaps the point of this Year of the World's Indigenous People:\n",
      "32 to bring the dispossessed out of the shadows, to recognise that they are part of us that we cannot give indigenous Australians up without giving up many of our own deeply held values, much of our identity - and indeed our own humanity.\n",
      "33 Nowhere in the world, I would venture, is the message more stark than Australia.\n",
      "34 We cannot simply sweep injustice aside.\n",
      "35 Even if our own conscience allowed us to, I am sure, that in due course, the world and the people of our region would not.\n",
      "36 There should be no mistake about this - our success in resolving these issues will have a significant bearing on our standing in the world.\n",
      "37 However intractable the problems seem we can't resign ourselves to failure any more than we can hide behind our opponents, our political opponents' contemporary version of social Darwinism which says that to reach back for the poor and dispossessed is to risk being dragged down.\n",
      "38 It seems to me not only morally indefensible but bad history.\n",
      "39 We non-aboriginal Australians should perhaps remind ourselves that Australia once reached out for us.\n",
      "40 Didn't Australia provide opportunity and care for the dispossessed Irish?\n",
      "41 Did it not for the poor of Britain?\n",
      "42 The refugees from war and famine and persecution in the countries of Europe and Asia?\n",
      "43 Isn't it reasonable to say that if we can build a prosperous and remarkable harmonious multicultural society in Australia surely we can find just solutions to the problems which we set for the first Australians the people to whom the most injustice has been done.\n",
      "44 And, as I say, the starting point might be to recognise that the problem starts with us the non-Aboriginal Australians.\n",
      "45 It begins, I think, with that act of recognition recognition that it was we who did the dispossessing.\n",
      "46 We took the traditional lands and smashed the traditional way of life.\n",
      "47 We brought the diseases and the alcohol.We\n",
      "48 committed the murders.\n",
      "49 We took the children from their mothers.\n",
      "50 We practised discrimination and exclusion.\n",
      "51 It was our ignorance and our prejudice and our failure to imagine that these things could be done to us.\n",
      "52 With some noble exceptions, we failed to make the most basic human response and enter into their hearts and minds.\n",
      "53 We failed to ask how would I feel if this was done to me?\n",
      "54 As a consequence, we failed to see that what we were doing degraded us all.\n",
      "55 If we need a reminder of this we received it in this year with the report of the Royal Commission into the Aboriginal Deaths in Custody which showed with devastating clarity that the past lives on in inequality, racism and injustice in the prejudice and ignorance of non-Aboriginal Australians and in the demoralisation and desperation, the fractured identity of so many Aboriginals and Torres-Strait Islanders.\n",
      "56 For all this I do not believe the report should fill us with guilt.\n",
      "57 Down the years there's been no shortage of guilt.\n",
      "58 But it has not produced the response we need.\n",
      "59 Guilt I think we've all learned is not a very constructive emotion.\n",
      "60 I think what we need to do is to open our hearts a bit, all of us.\n",
      "61 Perhaps when we recognise what we have in common we will see the things which must be done - the practical things.\n",
      "62 There's something of this in the creation of the Council for Aboriginal Reconstruction.\n",
      "63 The Council's mission is to forge a new partnership built on justice and equity and an appreciation of the heritage of Australia's Indigenous people.\n",
      "64 In the abstract those terms are meaningless.\n",
      "65 We have to give meaning to justice and equity and as I've said several times this year we will only give them when we commit ourselves to achieving concrete results.\n",
      "66 If we improve the living conditions in one town, they will improve in another and another.\n",
      "67 If we raise the standard of health by twenty percent one year it will be raised more the next.\n",
      "68 If we open one door, others will follow.\n",
      "69 When we see improvement we will see more dignity, more confidence, more happiness we will know we're going to win.\n",
      "70 We need these practical building blocks of change.\n",
      "71 By doing away with the bizarre concept that this continent had no owners prior to the settlement of Europeans, Mabo establishes a fundamental truth and lays the basis for justice.\n",
      "72 It will be much easier to work from that basis than has ever been from any point in the past.\n",
      "73 For that reason alone we should ignore the isolated outbreaks of hysteria and hostility of the past few months.\n",
      "74 Mabo is an historic decision we can make it an historic turning point, the basis of a new relationship between indigenous and non-Aboriginal Australians.\n"
     ]
    }
   ],
   "source": [
    "from tqdm import tqdm\n",
    "from statistics import mean\n",
    "result = []\n",
    "num_uttword = 0\n",
    "num_match = 0 \n",
    "num_prediction = 0\n",
    "num_nomatch = 0\n",
    "thres_distance = 0\n",
    "common_words_penalty = 1.2\n",
    "correct_dtw_score = []\n",
    "incorrect_dtw_score = []\n",
    "\n",
    "for uttr in range(0,len(speech_utt)):\n",
    "    dic = {}\n",
    "    dic['correct_words'] = []\n",
    "    dic['incorrect_words'] = []\n",
    "    dic['correct_dtw'] = []\n",
    "    dic['incorrect_dtw'] = []\n",
    "    match = set()\n",
    "    close_words = set()\n",
    "    for query in word_list:        \n",
    "        query_word = query[\"word\"].lower()\n",
    "        query_mfcc = np.float64(query[\"data\"])\n",
    "        search_mfcc = np.float64(speech_utt[uttr][\"data\"])\n",
    "        dtw_costs = qbe.dtw_sweep(query_mfcc, search_mfcc)\n",
    "        min_dtw = np.min(dtw_costs)\n",
    "        utt_sent = word_tokenize(speech_utt[uttr]['word'].lower())\n",
    "        hasMatch = False\n",
    "        dic['sentence'] = utt_sent                \n",
    "                \n",
    "        for utt_word in utt_sent:\n",
    "            if lev.distance(query_word,utt_word)<=thres_distance:\n",
    "                dic['correct_words'].append(utt_word)\n",
    "                dic['correct_dtw'].append(min_dtw)\n",
    "                correct_dtw_score.append(min_dtw)\n",
    "                dic['time']=dtw_costs.index(min_dtw)*3/100\n",
    "                #print('{:<20}'.format(utt_word), end=' ')\n",
    "                #print('{:<20}'.format(query_word), end=' ')\n",
    "                #print(\"%0.3f\" % min_dtw, end='\\t')\n",
    "                #print(dic['time'])\n",
    "                hasMatch = True\n",
    "                #print('spotted_words:')\n",
    "                #print(query_word,min_dtw)\n",
    "                break\n",
    "                \n",
    "        if hasMatch == False:\n",
    "            dic['incorrect_words'].append(query_word)\n",
    "            dic['incorrect_dtw'].append(min_dtw)\n",
    "            incorrect_dtw_score.append(min_dtw)\n",
    "            #print('incorrect_words:')\n",
    "            #print(query_word,min_dtw)        \n",
    "        \n",
    "    num_uttword += len(utt_sent)\n",
    "    #num_prediction += len(match)\n",
    "    num_match += len(dic['correct_words'])\n",
    "    num_nomatch += len(dic['incorrect_words'])\n",
    "\n",
    "    print(uttr,speech_utt[uttr]['word'])\n",
    "    #word_recognition_rate, precision, recall = get_score(num_uttword, num_spotted, num_prediction, num_unspotted)     \n",
    "    result.append(dic)\n",
    "#    if len(correct_dtw_score)>0:\n",
    "#        print('\\nCorrect DTW Average:', end=' ')\n",
    "#        print(mean(correct_dtw_score))\n",
    "#    print('Incorrect DTW Average:', end=' ')\n",
    "#    print(mean(incorrect_dtw_score))\n",
    "#    print('\\n') \n",
    "print('\\nCorrect DTW Average:', end=' ')\n",
    "print(mean(correct_dtw_score))\n",
    "print('Incorrect DTW Average:', end=' ')\n",
    "print(mean(incorrect_dtw_score))\n",
    "print('Number of Matching Words:', end=' ')\n",
    "print(num_match)\n",
    "print('Done\\n') "
   ]
  },
  {
   "cell_type": "code",
   "execution_count": 54,
   "metadata": {},
   "outputs": [
    {
     "name": "stdout",
     "output_type": "stream",
     "text": [
      "\n",
      "Correct DTW Average: 0.21954804386091956\n",
      "Incorrect DTW Average: 0.3520712708413919\n",
      "Number of Total Words: 2173\n",
      "Number of Match Words: 192\n"
     ]
    }
   ],
   "source": [
    "print('\\nCorrect DTW Average:', end=' ')\n",
    "print(mean(correct_dtw_score))\n",
    "print('Incorrect DTW Average:', end=' ')\n",
    "print(mean(incorrect_dtw_score))\n",
    "print('Number of Total Words:', end=' ')\n",
    "print(num_uttword)\n",
    "print('Number of Match Words:', end=' ')\n",
    "print(num_match)"
   ]
  },
  {
   "cell_type": "code",
   "execution_count": 55,
   "metadata": {},
   "outputs": [
    {
     "data": {
      "image/png": "[encoded data removed]",
      "text/plain": [
       "<Figure size 432x288 with 1 Axes>"
      ]
     },
     "metadata": {
      "needs_background": "light"
     },
     "output_type": "display_data"
    }
   ],
   "source": [
    "import matplotlib.pyplot as plt\n",
    "import seaborn as sns\n",
    "\n",
    "sns.kdeplot(correct_dtw_score, shade=True, linewidth = 3, label = 'Correct words')\n",
    "sns.kdeplot(incorrect_dtw_score, shade=True, linewidth = 3, label = 'Incorrect words')\n",
    "    \n",
    "# Plot formatting\n",
    "plt.legend(prop={'size': 12})\n",
    "plt.title('Search Query DTW Cost ' + plot_title)\n",
    "plt.xlabel('DTW Cost')\n",
    "plt.ylabel('Density')\n",
    "plt.savefig(ftitle+'_dtw.png', dpi=400)"
   ]
  },
  {
   "cell_type": "code",
   "execution_count": 56,
   "metadata": {},
   "outputs": [],
   "source": [
    "def get_score(dtw_threshold, match_dtw_score, nomatch_dtw_score, word_count):\n",
    "    num_spotted = len(list(filter(lambda x: x < dtw_threshold, match_dtw_score)))\n",
    "    num_uttword = word_count\n",
    "    num_incorrect = len(list(filter(lambda x: x < dtw_threshold, nomatch_dtw_score)))\n",
    "    #print(num_spotted, num_incorrect)\n",
    "    num_match = num_incorrect + num_spotted\n",
    "    num_unspotted = len(match_dtw_score) - num_spotted\n",
    "    \n",
    "   #print(num_spotted, num_uttword, num_incorrect, num_match, num_unspotted)\n",
    "       \n",
    "    #word_recognition_rate = num_spotted/num_uttword\n",
    "    precision = num_spotted/num_match\n",
    "    recall = num_spotted/(num_spotted+num_unspotted)\n",
    "   #print(word_recognition_rate, precision, recall)\n",
    "    return precision, recall"
   ]
  },
  {
   "cell_type": "markdown",
   "metadata": {},
   "source": [
    "## Get Precisions and Recalls"
   ]
  },
  {
   "cell_type": "code",
   "execution_count": 57,
   "metadata": {},
   "outputs": [
    {
     "name": "stdout",
     "output_type": "stream",
     "text": [
      "2173\n",
      "DTW: 0.2714480438609083\n",
      "Precision: 0.5969387755102041\n",
      "Recall: 0.609375\n",
      "Max F1: 0.6030927835051546\n"
     ]
    },
    {
     "data": {
      "image/png": "[encoded data removed]",
      "text/plain": [
       "<Figure size 432x288 with 1 Axes>"
      ]
     },
     "metadata": {
      "needs_background": "light"
     },
     "output_type": "display_data"
    }
   ],
   "source": [
    "from matplotlib.pyplot import plot, title, xlabel, ylabel, savefig, legend, ylim\n",
    "from numpy import array, arange\n",
    "\n",
    "dtw_performance = []\n",
    "dtw_threshold = []\n",
    "max_f1 = 0\n",
    "\n",
    "word_count = 0\n",
    "for uttr in result:\n",
    "    word_count += len(uttr['sentence'])\n",
    "print(word_count)   \n",
    "\n",
    "hasFoundRecall = False\n",
    "for i in arange(mean(correct_dtw_score)-0.05,mean(incorrect_dtw_score),0.0001):\n",
    "    p, r = get_score(i, correct_dtw_score, incorrect_dtw_score, word_count)\n",
    "    f1 = 2*((p*r)/(p+r))\n",
    "    if f1>max_f1:\n",
    "        max_f1=f1\n",
    "        default_dtw = i\n",
    "        best_p = p\n",
    "        best_r = r\n",
    "    dtw_performance.append((p,r))\n",
    "    dtw_threshold.append(i)\n",
    "    \n",
    "print('DTW: '+str(default_dtw)+'\\nPrecision: '+str(best_p)+'\\nRecall: '+str(best_r))\n",
    "print('Max F1: '+str(max_f1))\n",
    "dtw_threshold = array(dtw_threshold) \n",
    "#print(dtw_performance)\n",
    "#print(dtw_threshold)\n",
    "\n",
    "#recognised, \n",
    "precision, recall = zip(*dtw_performance)\n",
    "colors_and_labels = (\n",
    "   # (recognised, 'green', 'rate'),\n",
    "    (precision, 'grey', 'precision'),\n",
    "    (recall, 'orange', 'recall')\n",
    ")\n",
    "\n",
    "for performance, color, label in colors_and_labels:\n",
    "    plot(dtw_threshold, array(performance), color=color, label=label)\n",
    "title('Precision & Recall vs DTW '+plot_title)\n",
    "xlabel('DTW cost')\n",
    "ylabel('Rate')\n",
    "ylim(0,1)\n",
    "legend()\n",
    "\n",
    "savefig(ftitle+'_accuracy.png', dpi=400)"
   ]
  },
  {
   "cell_type": "code",
   "execution_count": 58,
   "metadata": {},
   "outputs": [
    {
     "name": "stdout",
     "output_type": "stream",
     "text": [
      "Utterance: \tBecause, in truth, we cannot confidently say that we succeeded if we have not managed to extend opportunity and care, dignity and hope to the indigenous people of Australia - the Aboriginal and Torres Strait Island people.\n",
      "Spotted Words:\topportunity strait \n",
      "False Positive:\t\n",
      "Failed to Spot:\taboriginal australia indigenous people people torres \n",
      "\n",
      "Utterance: \tIt begins, I think, with that act of recognition recognition that it was we who did the dispossessing.\n",
      "Spotted Words:\trecognition \n",
      "False Positive:\t\n",
      "Failed to Spot:\t\n",
      "\n",
      "Utterance: \tBy doing away with the bizarre concept that this continent had no owners prior to the settlement of Europeans, Mabo establishes a fundamental truth and lays the basis for justice.\n",
      "Spotted Words:\tcontinent justice settlement \n",
      "False Positive:\tstrait \n",
      "Failed to Spot:\tfundamental \n",
      "\n"
     ]
    },
    {
     "ename": "KeyboardInterrupt",
     "evalue": "",
     "output_type": "error",
     "traceback": [
      "\u001b[0;31m---------------------------------------------------------------------------\u001b[0m",
      "\u001b[0;31mKeyboardInterrupt\u001b[0m                         Traceback (most recent call last)",
      "\u001b[0;32m<ipython-input-58-956b38d374d9>\u001b[0m in \u001b[0;36m<module>\u001b[0;34m\u001b[0m\n\u001b[1;32m     11\u001b[0m         \u001b[0mquery_mfcc\u001b[0m \u001b[0;34m=\u001b[0m \u001b[0mnp\u001b[0m\u001b[0;34m.\u001b[0m\u001b[0mfloat64\u001b[0m\u001b[0;34m(\u001b[0m\u001b[0mquery\u001b[0m\u001b[0;34m[\u001b[0m\u001b[0;34m\"data\"\u001b[0m\u001b[0;34m]\u001b[0m\u001b[0;34m)\u001b[0m\u001b[0;34m\u001b[0m\u001b[0;34m\u001b[0m\u001b[0m\n\u001b[1;32m     12\u001b[0m         \u001b[0msearch_mfcc\u001b[0m \u001b[0;34m=\u001b[0m \u001b[0mnp\u001b[0m\u001b[0;34m.\u001b[0m\u001b[0mfloat64\u001b[0m\u001b[0;34m(\u001b[0m\u001b[0mspeech_utt\u001b[0m\u001b[0;34m[\u001b[0m\u001b[0muttr_id\u001b[0m\u001b[0;34m]\u001b[0m\u001b[0;34m[\u001b[0m\u001b[0;34m\"data\"\u001b[0m\u001b[0;34m]\u001b[0m\u001b[0;34m)\u001b[0m\u001b[0;34m\u001b[0m\u001b[0;34m\u001b[0m\u001b[0m\n\u001b[0;32m---> 13\u001b[0;31m         \u001b[0mdtw_costs\u001b[0m \u001b[0;34m=\u001b[0m \u001b[0mqbe\u001b[0m\u001b[0;34m.\u001b[0m\u001b[0mdtw_sweep\u001b[0m\u001b[0;34m(\u001b[0m\u001b[0mquery_mfcc\u001b[0m\u001b[0;34m,\u001b[0m \u001b[0msearch_mfcc\u001b[0m\u001b[0;34m)\u001b[0m\u001b[0;34m\u001b[0m\u001b[0;34m\u001b[0m\u001b[0m\n\u001b[0m\u001b[1;32m     14\u001b[0m         \u001b[0mmin_dtw\u001b[0m \u001b[0;34m=\u001b[0m \u001b[0mnp\u001b[0m\u001b[0;34m.\u001b[0m\u001b[0mmin\u001b[0m\u001b[0;34m(\u001b[0m\u001b[0mdtw_costs\u001b[0m\u001b[0;34m)\u001b[0m\u001b[0;34m\u001b[0m\u001b[0;34m\u001b[0m\u001b[0m\n\u001b[1;32m     15\u001b[0m         \u001b[0mutt_sent\u001b[0m \u001b[0;34m=\u001b[0m \u001b[0mword_tokenize\u001b[0m\u001b[0;34m(\u001b[0m\u001b[0mspeech_utt\u001b[0m\u001b[0;34m[\u001b[0m\u001b[0muttr_id\u001b[0m\u001b[0;34m]\u001b[0m\u001b[0;34m[\u001b[0m\u001b[0;34m'word'\u001b[0m\u001b[0;34m]\u001b[0m\u001b[0;34m.\u001b[0m\u001b[0mlower\u001b[0m\u001b[0;34m(\u001b[0m\u001b[0;34m)\u001b[0m\u001b[0;34m.\u001b[0m\u001b[0mreplace\u001b[0m\u001b[0;34m(\u001b[0m\u001b[0;34m'-'\u001b[0m\u001b[0;34m,\u001b[0m\u001b[0;34m' '\u001b[0m\u001b[0;34m)\u001b[0m\u001b[0;34m)\u001b[0m\u001b[0;34m\u001b[0m\u001b[0;34m\u001b[0m\u001b[0m\n",
      "\u001b[0;32m~/dtw_respeaking/speech_dtw/qbe.py\u001b[0m in \u001b[0;36mdtw_sweep\u001b[0;34m(query_seq, search_seq, n_step)\u001b[0m\n\u001b[1;32m     26\u001b[0m         sweep_costs.append(\n\u001b[1;32m     27\u001b[0m             dtw_cost_func(query_seq, search_seq[i_start:i_start + n_query],\n\u001b[0;32m---> 28\u001b[0;31m             True)\n\u001b[0m\u001b[1;32m     29\u001b[0m             )\n\u001b[1;32m     30\u001b[0m         \u001b[0mi_start\u001b[0m \u001b[0;34m+=\u001b[0m \u001b[0mn_step\u001b[0m\u001b[0;34m\u001b[0m\u001b[0;34m\u001b[0m\u001b[0m\n",
      "\u001b[0;31mKeyboardInterrupt\u001b[0m: "
     ]
    }
   ],
   "source": [
    "#uttrances = [4,43,71,55,32]\n",
    "uttrances = [4,44,70,54,31]\n",
    "for uttr_id in uttrances:\n",
    "    spotted_words = []\n",
    "    false_words = []\n",
    "    fail_to_spot = []\n",
    "    match = set()\n",
    "    close_words = set()\n",
    "    for query in word_list:        \n",
    "        query_word = query[\"word\"].lower()\n",
    "        query_mfcc = np.float64(query[\"data\"])\n",
    "        search_mfcc = np.float64(speech_utt[uttr_id][\"data\"])\n",
    "        dtw_costs = qbe.dtw_sweep(query_mfcc, search_mfcc)\n",
    "        min_dtw = np.min(dtw_costs)\n",
    "        utt_sent = word_tokenize(speech_utt[uttr_id]['word'].lower().replace('-',' '))\n",
    "        hasMatch = False               \n",
    "\n",
    "        for utt_word in utt_sent:\n",
    "            if min_dtw < default_dtw:\n",
    "                if lev.distance(query_word,utt_word)<=thres_distance:\n",
    "                    spotted_words.append(utt_word)\n",
    "                    hasMatch = True\n",
    "                    #print('Correct:')\n",
    "                    #print(query_word)\n",
    "                    break\n",
    "            else:\n",
    "                if lev.distance(query_word,utt_word)<=thres_distance:\n",
    "                    #print(query_word,utt_word)\n",
    "                    fail_to_spot.append(utt_word)\n",
    "                \n",
    "        if hasMatch == False and min_dtw < default_dtw:\n",
    "            false_words.append(query_word) \n",
    "                #print('Incorrect:')\n",
    "                #print(query_word)\n",
    "        \n",
    "                #print('Fail to Spot:')\n",
    "                #print(query_word)\n",
    "\n",
    "    print('Utterance: \\t'+speech_utt[uttr_id]['word'])\n",
    "    print('Spotted Words:', end='\\t')\n",
    "    for word in spotted_words:\n",
    "        print(word, end=' ') \n",
    "    print('\\nFalse Positive:', end='\\t')\n",
    "    for word in false_words:\n",
    "        print(word, end=' ')\n",
    "    print('\\nFailed to Spot:', end='\\t')\n",
    "    for word in fail_to_spot:\n",
    "        print(word, end=' ')\n",
    "    print('\\n') \n"
   ]
  },
  {
   "cell_type": "markdown",
   "metadata": {},
   "source": [
    "## Save Data"
   ]
  },
  {
   "cell_type": "code",
   "execution_count": 59,
   "metadata": {},
   "outputs": [],
   "source": [
    "data = {}\n",
    "\n",
    "data['result'] = result\n",
    "data['match_dtw'] = correct_dtw_score\n",
    "data['nomatch_dtw'] = incorrect_dtw_score\n",
    "data['precision']= best_p\n",
    "data['recall'] = best_r\n",
    "data['dtw']= default_dtw\n",
    "data['maxf1']= max_f1"
   ]
  },
  {
   "cell_type": "code",
   "execution_count": 60,
   "metadata": {},
   "outputs": [],
   "source": [
    "with open(ftitle+'.data', 'wb') as filehandle:\n",
    "    pickle.dump(data, filehandle)"
   ]
  },
  {
   "cell_type": "code",
   "execution_count": null,
   "metadata": {},
   "outputs": [],
   "source": []
  }
 ],
 "metadata": {
  "kernelspec": {
   "display_name": "Python 3",
   "language": "python",
   "name": "python3"
  },
  "language_info": {
   "codemirror_mode": {
    "name": "ipython",
    "version": 3
   },
   "file_extension": ".py",
   "mimetype": "text/x-python",
   "name": "python",
   "nbconvert_exporter": "python",
   "pygments_lexer": "ipython3",
   "version": "3.7.6"
  }
 },
 "nbformat": 4,
 "nbformat_minor": 4
}
