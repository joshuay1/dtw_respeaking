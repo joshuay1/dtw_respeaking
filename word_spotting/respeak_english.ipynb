{
 "cells": [
  {
   "cell_type": "markdown",
   "metadata": {},
   "source": [
    "# Query-by-Example (QbE) Search Using DTW"
   ]
  },
  {
   "cell_type": "markdown",
   "metadata": {},
   "source": [
    "## Preliminary"
   ]
  },
  {
   "cell_type": "code",
   "execution_count": 1,
   "metadata": {},
   "outputs": [],
   "source": [
    "%matplotlib inline\n",
    "%load_ext autoreload\n",
    "%autoreload 2"
   ]
  },
  {
   "cell_type": "code",
   "execution_count": 2,
   "metadata": {},
   "outputs": [
    {
     "name": "stderr",
     "output_type": "stream",
     "text": [
      "/home/josh/miniconda3/lib/python3.7/site-packages/pydub/utils.py:165: RuntimeWarning: Couldn't find ffmpeg or avconv - defaulting to ffmpeg, but may not work\n",
      "  warn(\"Couldn't find ffmpeg or avconv - defaulting to ffmpeg, but may not work\", RuntimeWarning)\n",
      "/home/josh/miniconda3/lib/python3.7/site-packages/pydub/utils.py:179: RuntimeWarning: Couldn't find ffplay or avplay - defaulting to ffplay, but may not work\n",
      "  warn(\"Couldn't find ffplay or avplay - defaulting to ffplay, but may not work\", RuntimeWarning)\n",
      "[nltk_data] Downloading package punkt to /home/josh/nltk_data...\n",
      "[nltk_data]   Package punkt is already up-to-date!\n"
     ]
    }
   ],
   "source": [
    "from __future__ import division\n",
    "from __future__ import print_function\n",
    "from os import path\n",
    "from python_speech_features import delta\n",
    "from python_speech_features import mfcc\n",
    "import glob\n",
    "import matplotlib.pyplot as plt\n",
    "import numpy as np\n",
    "import scipy.io.wavfile as wav\n",
    "import sys\n",
    "import simpleaudio as sa\n",
    "from pydub import AudioSegment\n",
    "from pydub.playback import play\n",
    "from shennong.audio import Audio\n",
    "from shennong.features.processor.mfcc import MfccProcessor\n",
    "from shennong.features.postprocessor.delta import DeltaPostProcessor\n",
    "from shennong.features.postprocessor.cmvn import CmvnPostProcessor\n",
    "from progress.bar import Bar\n",
    "from datetime import datetime\n",
    "from nltk import word_tokenize\n",
    "import nltk\n",
    "nltk.download('punkt')\n",
    "import Levenshtein as lev\n",
    "import pickle\n",
    "\n",
    "sys.path.append(\"..\")\n",
    "sys.path.append(path.join(\"..\", \"utils\"))\n",
    "\n",
    "from speech_dtw import qbe"
   ]
  },
  {
   "cell_type": "markdown",
   "metadata": {},
   "source": [
    "## Extract features"
   ]
  },
  {
   "cell_type": "code",
   "execution_count": 3,
   "metadata": {},
   "outputs": [],
   "source": [
    "def get_mfcc_dd(wav_fn):\n",
    "    \"\"\"Return the MFCCs with deltas and delta-deltas for a audio file.\"\"\"\n",
    "    audio = Audio.load(wav_fn)\n",
    "    processor = MfccProcessor(sample_rate=audio.sample_rate, window_type=\"hamming\",frame_length=0.025, frame_shift=0.01,\n",
    "                              cepstral_lifter=26.0,low_freq=0, vtln_low=60, vtln_high=7200, high_freq=audio.sample_rate/2)\n",
    "    d_processor = DeltaPostProcessor(order=2)\n",
    "    mfcc_static = processor.process(audio.channel(1), vtln_warp=1.0)\n",
    "    mfcc_deltas = d_processor.process(mfcc_static)\n",
    "    #print(mfcc_static.shape, mfcc_deltas.shape)\n",
    "    features = mfcc_deltas._to_dict()[\"data\"]\n",
    "    features = (features - np.mean(features, axis=0)) / np.std(features, axis=0)\n",
    "    #print(features.shape)\n",
    "    return features"
   ]
  },
  {
   "cell_type": "code",
   "execution_count": 5,
   "metadata": {},
   "outputs": [],
   "source": [
    "#words_txt = 'english_words/common_words_500.txt'\n",
    "#words_dir = 'english_words/500_common'\n",
    "#word_wav = 'common_word_*.wav'\n",
    "ftitle = '50_extracted_words'\n",
    "plot_title = ' (50 Extracted words'\n",
    "#words_txt = 'english_words/redfern_words.txt'\n",
    "words_dir = 'english_words/redfern_orgnl'\n",
    "word_wav = '*.wav'\n",
    "target_speech_dir = 'redfern_original'\n",
    "#target_speech_dir = 'redfern_rspk'\n",
    "target_speech_txt = 'redfern_*.txt'\n",
    "target_speech_wav = 'redfern_*.wav'"
   ]
  },
  {
   "cell_type": "markdown",
   "metadata": {},
   "source": [
    "## Take Query Words"
   ]
  },
  {
   "cell_type": "code",
   "execution_count": 9,
   "metadata": {},
   "outputs": [
    {
     "name": "stderr",
     "output_type": "stream",
     "text": [
      "[nltk_data] Downloading package stopwords to /home/josh/nltk_data...\n",
      "[nltk_data]   Package stopwords is already up-to-date!\n"
     ]
    },
    {
     "name": "stdout",
     "output_type": "stream",
     "text": [
      "Aboriginal Australia beginning Commission committed contained contemporary continent contributions Council culture democracy demoralisation dispossessed environment failed failure fundamental generation history identity ignorance imagine Indigenous Islander justice knowledge living opponents opportunity participation partnership people practical prejudice problems reality recognise recognition remarkable settlement social Strait Torres traditional "
     ]
    }
   ],
   "source": [
    "from nltk.corpus import stopwords \n",
    "nltk.download('stopwords')\n",
    "stopwords = set(stopwords.words('english'))\n",
    "additional_stopwords = ['i','mr','and', 'says', 'oh', 'never', 'take', 'whatever', 'might', 'say', 'non', 'well', 'get', 'like', 'know', 'think', 'much', 'could', 'said', 'really', 'actually', 'cannot', 'us', 'things']\n",
    "new_stopwords = stopwords.union(additional_stopwords)\n",
    "word_list = []\n",
    "i = 0\n",
    "for wav_fn in sorted(glob.glob(path.join(words_dir, word_wav))):\n",
    "    if i < 300:\n",
    "        query = {} \n",
    "        txt_file = open(wav_fn.replace('wav','txt'), \"r\")\n",
    "        query[\"word\"] = txt_file.read()\n",
    "        if query[\"word\"] not in new_stopwords:\n",
    "            rate, signal = wav.read(wav_fn)\n",
    "            length = len(signal) / rate * 1000\n",
    "            query_mfcc = get_mfcc_dd(wav_fn)   \n",
    "            query[\"length\"] = length\n",
    "            query[\"data\"] = query_mfcc\n",
    "            print(query[\"word\"], end=' ')\n",
    "            query[\"audio\"] = AudioSegment.from_file(wav_fn, format=\"wav\")\n",
    "            query[\"thres\"] = 1\n",
    "            #play(query[\"audio\"])\n",
    "            word_list.append(query)\n",
    "            i+=1\n",
    "    else:\n",
    "        break"
   ]
  },
  {
   "cell_type": "code",
   "execution_count": 10,
   "metadata": {},
   "outputs": [
    {
     "name": "stdout",
     "output_type": "stream",
     "text": [
      "45\n",
      "Commission\n"
     ]
    }
   ],
   "source": [
    "print(len(word_list))\n",
    "print(word_list[3][\"word\"])\n",
    "#play(word_list[3][\"audio\"])\n",
    "#print(query[\"data\"].shape)"
   ]
  },
  {
   "cell_type": "markdown",
   "metadata": {},
   "source": [
    "## Take Target Speech Utterances"
   ]
  },
  {
   "cell_type": "code",
   "execution_count": 11,
   "metadata": {},
   "outputs": [
    {
     "name": "stdout",
     "output_type": "stream",
     "text": [
      "This is a fundamental test of our social goals and our national will:\n"
     ]
    }
   ],
   "source": [
    "speech_utt = []\n",
    "for wav_fn in sorted(glob.glob(path.join(target_speech_dir, target_speech_wav))):\n",
    "    dic = {}\n",
    "    dic[\"audio\"] = AudioSegment.from_file(wav_fn, format=\"wav\")\n",
    "    dic[\"data\"] = get_mfcc_dd(wav_fn)\n",
    "    txt_file = open(wav_fn.replace('wav','txt'), \"r\")\n",
    "    dic[\"word\"] = txt_file.read()\n",
    "    speech_utt.append(dic)\n",
    "\n",
    "print(speech_utt[5]['word'])  \n",
    "#play(speech_utt[5]['audio'])"
   ]
  },
  {
   "cell_type": "code",
   "execution_count": 12,
   "metadata": {},
   "outputs": [
    {
     "name": "stdout",
     "output_type": "stream",
     "text": [
      "culture\n",
      "It will be a year of great significance for Australia.\n"
     ]
    },
    {
     "data": {
      "image/png": "[encoded data removed]",
      "text/plain": [
       "<Figure size 432x288 with 1 Axes>"
      ]
     },
     "metadata": {
      "needs_background": "light"
     },
     "output_type": "display_data"
    }
   ],
   "source": [
    "print(word_list[10][\"word\"])\n",
    "print(speech_utt[2][\"word\"])\n",
    "#print(redfern_word_list[1][\"data\"], redfern_rspk[2][\"data\"])\n",
    "#print(np.float64(redfern_word_list[1][\"data\"]), np.float64(redfern_rspk[2][\"data\"]))\n",
    "sweep_original = qbe.dtw_sweep(np.float64(word_list[10][\"data\"]), np.float64(speech_utt[2][\"data\"]))\n",
    "plt.plot(sweep_original,color='green')\n",
    "play(word_list[10]['audio'])\n",
    "play(speech_utt[2][\"audio\"])"
   ]
  },
  {
   "cell_type": "code",
   "execution_count": 13,
   "metadata": {},
   "outputs": [
    {
     "name": "stdout",
     "output_type": "stream",
     "text": [
      "111\n"
     ]
    }
   ],
   "source": [
    "print(len(speech_utt))"
   ]
  },
  {
   "cell_type": "code",
   "execution_count": 14,
   "metadata": {},
   "outputs": [
    {
     "name": "stderr",
     "output_type": "stream",
     "text": [
      "100%|██████████| 111/111 [06:04<00:00,  3.28s/it]"
     ]
    },
    {
     "name": "stdout",
     "output_type": "stream",
     "text": [
      "\n",
      "Correct DTW Average: 0.21948824847020115\n",
      "Incorrect DTW Average: 0.35206501619790426\n",
      "Number of Matching Words: 192\n",
      "Done\n",
      "\n"
     ]
    },
    {
     "name": "stderr",
     "output_type": "stream",
     "text": [
      "\n"
     ]
    }
   ],
   "source": [
    "from tqdm import tqdm\n",
    "from statistics import mean\n",
    "result = []\n",
    "num_uttword = 0\n",
    "num_match = 0 \n",
    "num_prediction = 0\n",
    "num_nomatch = 0\n",
    "thres_distance = 0\n",
    "common_words_penalty = 1.2\n",
    "correct_dtw_score = []\n",
    "incorrect_dtw_score = []\n",
    "\n",
    "for uttr in tqdm(range(0,len(speech_utt))):\n",
    "    dic = {}\n",
    "    dic['correct_words'] = []\n",
    "    dic['incorrect_words'] = []\n",
    "    dic['correct_dtw'] = []\n",
    "    dic['incorrect_dtw'] = []\n",
    "    match = set()\n",
    "    close_words = set()\n",
    "    for query in word_list:        \n",
    "        query_word = query[\"word\"].lower()\n",
    "        query_mfcc = np.float64(query[\"data\"])\n",
    "        search_mfcc = np.float64(speech_utt[uttr][\"data\"])\n",
    "        dtw_costs = qbe.dtw_sweep(query_mfcc, search_mfcc)\n",
    "        min_dtw = np.min(dtw_costs)\n",
    "        utt_sent = word_tokenize(speech_utt[uttr]['word'].lower())\n",
    "        hasMatch = False\n",
    "        dic['sentence'] = utt_sent                \n",
    "                \n",
    "        for utt_word in utt_sent:\n",
    "            if lev.distance(query_word,utt_word)<=thres_distance:\n",
    "                dic['correct_words'].append(utt_word)\n",
    "                dic['correct_dtw'].append(min_dtw)\n",
    "                correct_dtw_score.append(min_dtw)\n",
    "                dic['time']=dtw_costs.index(min_dtw)*3/100\n",
    "                #print('{:<20}'.format(utt_word), end=' ')\n",
    "                #print('{:<20}'.format(query_word), end=' ')\n",
    "                #print(\"%0.3f\" % min_dtw, end='\\t')\n",
    "                #print(dic['time'])\n",
    "                hasMatch = True\n",
    "                #print('spotted_words:')\n",
    "                #print(query_word,min_dtw)\n",
    "                break\n",
    "                \n",
    "        if hasMatch == False:\n",
    "            dic['incorrect_words'].append(query_word)\n",
    "            dic['incorrect_dtw'].append(min_dtw)\n",
    "            incorrect_dtw_score.append(min_dtw)\n",
    "            #print('incorrect_words:')\n",
    "            #print(query_word,min_dtw)        \n",
    "        \n",
    "    num_uttword += len(utt_sent)\n",
    "    #num_prediction += len(match)\n",
    "    num_match += len(dic['correct_words'])\n",
    "    num_nomatch += len(dic['incorrect_words'])\n",
    "\n",
    "    #word_recognition_rate, precision, recall = get_score(num_uttword, num_spotted, num_prediction, num_unspotted)     \n",
    "    result.append(dic)\n",
    "#    if len(correct_dtw_score)>0:\n",
    "#        print('\\nCorrect DTW Average:', end=' ')\n",
    "#        print(mean(correct_dtw_score))\n",
    "#    print('Incorrect DTW Average:', end=' ')\n",
    "#    print(mean(incorrect_dtw_score))\n",
    "#    print('\\n') \n",
    "print('\\nCorrect DTW Average:', end=' ')\n",
    "print(mean(correct_dtw_score))\n",
    "print('Incorrect DTW Average:', end=' ')\n",
    "print(mean(incorrect_dtw_score))\n",
    "print('Number of Matching Words:', end=' ')\n",
    "print(num_match)\n",
    "print('Done\\n') "
   ]
  },
  {
   "cell_type": "code",
   "execution_count": 15,
   "metadata": {},
   "outputs": [
    {
     "name": "stdout",
     "output_type": "stream",
     "text": [
      "\n",
      "Correct DTW Average: 0.21948824847020115\n",
      "Incorrect DTW Average: 0.35206501619790426\n",
      "Number of Total Words: 2173\n",
      "Number of Match Words: 192\n"
     ]
    }
   ],
   "source": [
    "print('\\nCorrect DTW Average:', end=' ')\n",
    "print(mean(correct_dtw_score))\n",
    "print('Incorrect DTW Average:', end=' ')\n",
    "print(mean(incorrect_dtw_score))\n",
    "print('Number of Total Words:', end=' ')\n",
    "print(num_uttword)\n",
    "print('Number of Match Words:', end=' ')\n",
    "print(num_match)"
   ]
  },
  {
   "cell_type": "code",
   "execution_count": 17,
   "metadata": {},
   "outputs": [
    {
     "data": {
      "image/png": "[encoded data removed]",
      "text/plain": [
       "<Figure size 432x288 with 1 Axes>"
      ]
     },
     "metadata": {
      "needs_background": "light"
     },
     "output_type": "display_data"
    }
   ],
   "source": [
    "import matplotlib.pyplot as plt\n",
    "import seaborn as sns\n",
    "\n",
    "sns.kdeplot(correct_dtw_score, shade=True, linewidth = 3, label = 'Correct words')\n",
    "sns.kdeplot(incorrect_dtw_score, shade=True, linewidth = 3, label = 'Incorrect words')\n",
    "    \n",
    "# Plot formatting\n",
    "plt.legend(prop={'size': 12})\n",
    "plt.title('Search Query DTW Cost ' + plot_title)\n",
    "plt.xlabel('DTW Cost')\n",
    "plt.ylabel('Density')\n",
    "plt.savefig(ftitle+'_dtw.png', dpi=400)"
   ]
  },
  {
   "cell_type": "code",
   "execution_count": 18,
   "metadata": {},
   "outputs": [],
   "source": [
    "def get_score(dtw_threshold, match_dtw_score, nomatch_dtw_score, word_count):\n",
    "    num_spotted = len(list(filter(lambda x: x < dtw_threshold, match_dtw_score)))\n",
    "    num_uttword = word_count\n",
    "    num_incorrect = len(list(filter(lambda x: x < dtw_threshold, nomatch_dtw_score)))\n",
    "    #print(num_spotted, num_incorrect)\n",
    "    num_match = num_incorrect + num_spotted\n",
    "    num_unspotted = len(match_dtw_score) - num_spotted\n",
    "    \n",
    "   #print(num_spotted, num_uttword, num_incorrect, num_match, num_unspotted)\n",
    "       \n",
    "    #word_recognition_rate = num_spotted/num_uttword\n",
    "    precision = num_spotted/num_match\n",
    "    recall = num_spotted/(num_spotted+num_unspotted)\n",
    "   #print(word_recognition_rate, precision, recall)\n",
    "    return precision, recall"
   ]
  },
  {
   "cell_type": "markdown",
   "metadata": {},
   "source": [
    "## Get Precisions and Recalls"
   ]
  },
  {
   "cell_type": "code",
   "execution_count": 19,
   "metadata": {},
   "outputs": [
    {
     "name": "stdout",
     "output_type": "stream",
     "text": [
      "2173\n",
      "DTW: 0.27108824847019\n",
      "Precision: 0.6\n",
      "Recall: 0.609375\n",
      "Max F1: 0.6046511627906976\n"
     ]
    },
    {
     "data": {
      "image/png": "[encoded data removed]",
      "text/plain": [
       "<Figure size 432x288 with 1 Axes>"
      ]
     },
     "metadata": {
      "needs_background": "light"
     },
     "output_type": "display_data"
    }
   ],
   "source": [
    "from matplotlib.pyplot import plot, title, xlabel, ylabel, savefig, legend, ylim\n",
    "from numpy import array, arange\n",
    "\n",
    "dtw_performance = []\n",
    "dtw_threshold = []\n",
    "max_f1 = 0\n",
    "\n",
    "word_count = 0\n",
    "for uttr in result:\n",
    "    word_count += len(uttr['sentence'])\n",
    "print(word_count)   \n",
    "\n",
    "hasFoundRecall = False\n",
    "for i in arange(mean(correct_dtw_score)-0.05,mean(incorrect_dtw_score),0.0001):\n",
    "    p, r = get_score(i, correct_dtw_score, incorrect_dtw_score, word_count)\n",
    "    f1 = 2*((p*r)/(p+r))\n",
    "    if f1>max_f1:\n",
    "        max_f1=f1\n",
    "        default_dtw = i\n",
    "        best_p = p\n",
    "        best_r = r\n",
    "    dtw_performance.append((p,r))\n",
    "    dtw_threshold.append(i)\n",
    "    \n",
    "print('DTW: '+str(default_dtw)+'\\nPrecision: '+str(best_p)+'\\nRecall: '+str(best_r))\n",
    "print('Max F1: '+str(max_f1))\n",
    "dtw_threshold = array(dtw_threshold) \n",
    "#print(dtw_performance)\n",
    "#print(dtw_threshold)\n",
    "\n",
    "#recognised, \n",
    "precision, recall = zip(*dtw_performance)\n",
    "colors_and_labels = (\n",
    "   # (recognised, 'green', 'rate'),\n",
    "    (precision, 'grey', 'precision'),\n",
    "    (recall, 'orange', 'recall')\n",
    ")\n",
    "\n",
    "for performance, color, label in colors_and_labels:\n",
    "    plot(dtw_threshold, array(performance), color=color, label=label)\n",
    "title('Precision & Recall vs DTW '+plot_title)\n",
    "xlabel('DTW cost')\n",
    "ylabel('Rate')\n",
    "ylim(0,1)\n",
    "legend()\n",
    "\n",
    "savefig(ftitle+'_accuracy.png', dpi=400)"
   ]
  },
  {
   "cell_type": "code",
   "execution_count": 20,
   "metadata": {},
   "outputs": [
    {
     "name": "stdout",
     "output_type": "stream",
     "text": [
      "Utterance: \tBecause, in truth, we cannot confidently say that we succeeded if we have not managed to extend opportunity and care, dignity and hope to the indigenous people of Australia - the Aboriginal and Torres Strait Island people.\n",
      "Spotted Words:\topportunity strait \n",
      "False Positive:\t\n",
      "Failed to Spot:\taboriginal australia indigenous people people torres \n",
      "\n",
      "Utterance: \tIt begins, I think, with that act of recognition recognition that it was we who did the dispossessing.\n",
      "Spotted Words:\trecognition \n",
      "False Positive:\t\n",
      "Failed to Spot:\t\n",
      "\n",
      "Utterance: \tBy doing away with the bizarre concept that this continent had no owners prior to the settlement of Europeans, Mabo establishes a fundamental truth and lays the basis for justice.\n",
      "Spotted Words:\tcontinent justice settlement \n",
      "False Positive:\tstrait \n",
      "Failed to Spot:\tfundamental \n",
      "\n",
      "Utterance: \tIf we need a reminder of this we received it in this year with the report of the Royal Commission into the Aboriginal Deaths in Custody which showed with devastating clarity that the past lives on in inequality, racism and injustice in the prejudice and ignorance of non-Aboriginal Australians and in the demoralisation and desperation, the fractured identity of so many Aboriginals and Torres-Strait Islanders.\n",
      "Spotted Words:\tcommission demoralisation identity strait \n",
      "False Positive:\tjustice \n",
      "Failed to Spot:\taboriginal aboriginal ignorance prejudice torres \n",
      "\n",
      "Utterance: \tto bring the dispossessed out of the shadows, to recognise that they are part of us that we cannot give indigenous Australians up without giving up many of our own deeply held values, much of our identity - and indeed our own humanity.\n",
      "Spotted Words:\tidentity recognise \n",
      "False Positive:\tstrait \n",
      "Failed to Spot:\tdispossessed indigenous \n",
      "\n"
     ]
    }
   ],
   "source": [
    "#uttrances = [4,43,71,55,32]\n",
    "uttrances = [4,44,70,54,31]\n",
    "for uttr_id in uttrances:\n",
    "    spotted_words = []\n",
    "    false_words = []\n",
    "    fail_to_spot = []\n",
    "    match = set()\n",
    "    close_words = set()\n",
    "    for query in word_list:        \n",
    "        query_word = query[\"word\"].lower()\n",
    "        query_mfcc = np.float64(query[\"data\"])\n",
    "        search_mfcc = np.float64(speech_utt[uttr_id][\"data\"])\n",
    "        dtw_costs = qbe.dtw_sweep(query_mfcc, search_mfcc)\n",
    "        min_dtw = np.min(dtw_costs)\n",
    "        utt_sent = word_tokenize(speech_utt[uttr_id]['word'].lower().replace('-',' '))\n",
    "        hasMatch = False               \n",
    "\n",
    "        for utt_word in utt_sent:\n",
    "            if min_dtw < default_dtw:\n",
    "                if lev.distance(query_word,utt_word)<=thres_distance:\n",
    "                    spotted_words.append(utt_word)\n",
    "                    hasMatch = True\n",
    "                    #print('Correct:')\n",
    "                    #print(query_word)\n",
    "                    break\n",
    "            else:\n",
    "                if lev.distance(query_word,utt_word)<=thres_distance:\n",
    "                    #print(query_word,utt_word)\n",
    "                    fail_to_spot.append(utt_word)\n",
    "                \n",
    "        if hasMatch == False and min_dtw < default_dtw:\n",
    "            false_words.append(query_word) \n",
    "                #print('Incorrect:')\n",
    "                #print(query_word)\n",
    "        \n",
    "                #print('Fail to Spot:')\n",
    "                #print(query_word)\n",
    "\n",
    "    print('Utterance: \\t'+speech_utt[uttr_id]['word'])\n",
    "    print('Spotted Words:', end='\\t')\n",
    "    for word in spotted_words:\n",
    "        print(word, end=' ') \n",
    "    print('\\nFalse Positive:', end='\\t')\n",
    "    for word in false_words:\n",
    "        print(word, end=' ')\n",
    "    print('\\nFailed to Spot:', end='\\t')\n",
    "    for word in fail_to_spot:\n",
    "        print(word, end=' ')\n",
    "    print('\\n') \n"
   ]
  },
  {
   "cell_type": "markdown",
   "metadata": {},
   "source": [
    "## Save Data"
   ]
  },
  {
   "cell_type": "code",
   "execution_count": 21,
   "metadata": {},
   "outputs": [],
   "source": [
    "data = {}\n",
    "data['result'] = result\n",
    "data['match_dtw'] = correct_dtw_score\n",
    "data['nomatch_dtw'] = incorrect_dtw_score"
   ]
  },
  {
   "cell_type": "code",
   "execution_count": 22,
   "metadata": {},
   "outputs": [],
   "source": [
    "with open(ftitle+'.data', 'wb') as filehandle:\n",
    "    pickle.dump(data, filehandle)"
   ]
  },
  {
   "cell_type": "code",
   "execution_count": null,
   "metadata": {},
   "outputs": [],
   "source": []
  }
 ],
 "metadata": {
  "kernelspec": {
   "display_name": "Python 3",
   "language": "python",
   "name": "python3"
  },
  "language_info": {
   "codemirror_mode": {
    "name": "ipython",
    "version": 3
   },
   "file_extension": ".py",
   "mimetype": "text/x-python",
   "name": "python",
   "nbconvert_exporter": "python",
   "pygments_lexer": "ipython3",
   "version": "3.7.6"
  }
 },
 "nbformat": 4,
 "nbformat_minor": 4
}
