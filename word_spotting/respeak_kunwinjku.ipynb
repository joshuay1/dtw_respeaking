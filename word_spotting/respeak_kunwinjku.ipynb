{
 "cells": [
  {
   "cell_type": "markdown",
   "metadata": {},
   "source": [
    "# Query-by-Example (QbE) Search Using DTW"
   ]
  },
  {
   "cell_type": "markdown",
   "metadata": {},
   "source": [
    "## Preliminary"
   ]
  },
  {
   "cell_type": "code",
   "execution_count": 8,
   "metadata": {},
   "outputs": [],
   "source": [
    "%matplotlib inline\n",
    "%load_ext autoreload\n",
    "%autoreload 2"
   ]
  },
  {
   "cell_type": "code",
   "execution_count": 9,
   "metadata": {},
   "outputs": [
    {
     "name": "stderr",
     "output_type": "stream",
     "text": [
      "/home/josh/miniconda3/lib/python3.7/site-packages/pydub/utils.py:170: RuntimeWarning: Couldn't find ffmpeg or avconv - defaulting to ffmpeg, but may not work\n",
      "  warn(\"Couldn't find ffmpeg or avconv - defaulting to ffmpeg, but may not work\", RuntimeWarning)\n",
      "/home/josh/miniconda3/lib/python3.7/site-packages/pydub/utils.py:184: RuntimeWarning: Couldn't find ffplay or avplay - defaulting to ffplay, but may not work\n",
      "  warn(\"Couldn't find ffplay or avplay - defaulting to ffplay, but may not work\", RuntimeWarning)\n"
     ]
    }
   ],
   "source": [
    "from __future__ import division\n",
    "from __future__ import print_function\n",
    "from os import path\n",
    "from python_speech_features import delta\n",
    "from python_speech_features import mfcc\n",
    "import glob\n",
    "import matplotlib.pyplot as plt\n",
    "import numpy as np\n",
    "import scipy.io.wavfile as wav\n",
    "import sys\n",
    "import simpleaudio as sa\n",
    "from pydub import AudioSegment\n",
    "from pydub.playback import play\n",
    "from shennong.audio import Audio\n",
    "from shennong.features.processor.mfcc import MfccProcessor\n",
    "from shennong.features.postprocessor.delta import DeltaPostProcessor\n",
    "from shennong.features.postprocessor.cmvn import CmvnPostProcessor\n",
    "from progress.bar import Bar\n",
    "from datetime import datetime\n",
    "from nltk import word_tokenize\n",
    "import nltk\n",
    "#nltk.download('punkt')\n",
    "import Levenshtein as lev\n",
    "import pickle\n",
    "\n",
    "sys.path.append(\"..\")\n",
    "sys.path.append(path.join(\"..\", \"utils\"))\n",
    "\n",
    "from speech_dtw import qbe"
   ]
  },
  {
   "cell_type": "markdown",
   "metadata": {},
   "source": [
    "## Extract MFCC Features"
   ]
  },
  {
   "cell_type": "code",
   "execution_count": 10,
   "metadata": {},
   "outputs": [],
   "source": [
    "def get_mfcc_dd(wav_fn):\n",
    "    \"\"\"Return the MFCCs with deltas and delta-deltas for a audio file.\"\"\"\n",
    "    audio = Audio.load(wav_fn)\n",
    "    processor = MfccProcessor(sample_rate=audio.sample_rate, window_type=\"hamming\",frame_length=0.025, frame_shift=0.01,\n",
    "                              cepstral_lifter=26.0,low_freq=0, vtln_low=60, vtln_high=7200, high_freq=audio.sample_rate/2)\n",
    "    d_processor = DeltaPostProcessor(order=2)\n",
    "    mfcc_static = processor.process(audio.channel(0), vtln_warp=1.0)\n",
    "    mfcc_deltas = d_processor.process(mfcc_static)\n",
    "    #print(mfcc_static.shape, mfcc_deltas.shape)\n",
    "    features = mfcc_deltas._to_dict()[\"data\"]\n",
    "    features = (features - np.mean(features, axis=0)) / np.std(features, axis=0)\n",
    "    #print(features.shape)\n",
    "    return features"
   ]
  },
  {
   "cell_type": "markdown",
   "metadata": {},
   "source": [
    "## Set Directories"
   ]
  },
  {
   "cell_type": "code",
   "execution_count": 14,
   "metadata": {},
   "outputs": [],
   "source": [
    "# Titles of the saved data file and plot diagram\n",
    "ftitle = '30 topic words with respearking'\n",
    "plot_title = '30 topic words with respearking'\n",
    "# Set the directory for word examples that includes the wav and corresponding txt files\n",
    "words_dir = 'kunwok_words/interview_words_josh'\n",
    "word_wav = '*.wav'\n",
    "# Set the directory for target speech \n",
    "target_speech_dir = 'kunwok_speech/interview_rspk'\n",
    "target_speech_txt = '*.txt'\n",
    "target_speech_wav = '*.wav'"
   ]
  },
  {
   "cell_type": "markdown",
   "metadata": {},
   "source": [
    "## Take Query Words"
   ]
  },
  {
   "cell_type": "code",
   "execution_count": 15,
   "metadata": {},
   "outputs": [],
   "source": [
    "word_list = []\n",
    "for wav_fn in sorted(glob.glob(path.join(words_dir, word_wav))):\n",
    "    query = {} \n",
    "    txt_file = open(wav_fn.replace('wav','txt'), \"r\")\n",
    "    query[\"word\"] = txt_file.read()\n",
    "    rate, signal = wav.read(wav_fn)\n",
    "    length = len(signal) / rate * 1000\n",
    "    query_mfcc = get_mfcc_dd(wav_fn)   \n",
    "    query[\"length\"] = length\n",
    "    query[\"data\"] = query_mfcc\n",
    "    query[\"audio\"] = AudioSegment.from_file(wav_fn, format=\"wav\")\n",
    "    query[\"thres\"] = 1\n",
    "    word_list.append(query)"
   ]
  },
  {
   "cell_type": "markdown",
   "metadata": {},
   "source": [
    "## Take Target Speech Utterances"
   ]
  },
  {
   "cell_type": "code",
   "execution_count": 16,
   "metadata": {},
   "outputs": [],
   "source": [
    "speech_utt= []\n",
    "speech_utt= []\n",
    "for wav_fn in sorted(glob.glob(path.join(target_speech_dir, target_speech_wav))):\n",
    "    dic = {}\n",
    "    #print(wav_fn)\n",
    "    dic[\"audio\"] = AudioSegment.from_file(wav_fn, format=\"wav\")\n",
    "    dic[\"data\"] = get_mfcc_dd(wav_fn)\n",
    "    txt_file = open(wav_fn.replace('wav','txt'), \"r\")\n",
    "    dic[\"word\"] = txt_file.read()\n",
    "    speech_utt.append(dic)"
   ]
  },
  {
   "cell_type": "code",
   "execution_count": 25,
   "metadata": {},
   "outputs": [
    {
     "name": "stdout",
     "output_type": "stream",
     "text": [
      "ngandi-nan ngadberre kun-warre kabirri-nan\n"
     ]
    }
   ],
   "source": [
    "# Test word sample\n",
    "print(speech_utt[5]['word'])  \n",
    "play(speech_utt[5]['audio'])"
   ]
  },
  {
   "cell_type": "code",
   "execution_count": null,
   "metadata": {},
   "outputs": [],
   "source": [
    "# Test DTW sweep & plot\n",
    "print(word_list[11][\"word\"])\n",
    "print(speech_utt[2][\"word\"])\n",
    "sweep_original = qbe.dtw_sweep(np.float64(word_list[11][\"data\"]), np.float64(speech_utt[2][\"data\"]))\n",
    "plt.plot(sweep_original,color='green')"
   ]
  },
  {
   "cell_type": "markdown",
   "metadata": {},
   "source": [
    "## Calculate the Min DTW distance of Each Word and Utterance Pair"
   ]
  },
  {
   "cell_type": "code",
   "execution_count": 17,
   "metadata": {},
   "outputs": [
    {
     "name": "stdout",
     "output_type": "stream",
     "text": [
      "\n",
      "Correct DTW Average: 0.3471752359292771\n",
      "Incorrect DTW Average: 0.387756742560083\n",
      "Number of Matching Words: 104\n",
      "Done\n",
      "\n"
     ]
    }
   ],
   "source": [
    "from tqdm import tqdm\n",
    "from statistics import mean\n",
    "result = []\n",
    "num_uttword = 0\n",
    "num_match = 0 \n",
    "num_prediction = 0\n",
    "num_nomatch = 0\n",
    "thres_distance = 1\n",
    "correct_dtw_score = []\n",
    "incorrect_dtw_score = []\n",
    "i = 1\n",
    "\n",
    "def sortThird(val): \n",
    "    return val[2]  \n",
    "\n",
    "for uttr in range(0,len(speech_utt)):\n",
    "    dic = {}\n",
    "    dic['correct_words'] = []\n",
    "    dic['incorrect_words'] = []\n",
    "    dic['correct_dtw'] = []\n",
    "    dic['incorrect_dtw'] = []\n",
    "    prediction = []\n",
    "    match = set()\n",
    "    close_words = set()\n",
    "    length = len(speech_utt[uttr][\"data\"])/100\n",
    "\n",
    "    for query in word_list:        \n",
    "        query_word = query[\"word\"].lower()\n",
    "        query_mfcc = np.float64(query[\"data\"])\n",
    "        search_mfcc = np.float64(speech_utt[uttr][\"data\"])\n",
    "        dtw_costs = qbe.dtw_sweep(query_mfcc, search_mfcc)\n",
    "        min_dtw = np.min(dtw_costs)\n",
    "        utt_sent = word_tokenize(speech_utt[uttr]['word'].lower().replace('-',''))\n",
    "        time = dtw_costs.index(min_dtw)*3/100\n",
    "        hasMatch = False\n",
    "        dic['sentence'] = utt_sent\n",
    "        \n",
    "        if min_dtw < 0.33:\n",
    "            prediction.append((query_word, time, min_dtw))\n",
    "      \n",
    "        for utt_word in utt_sent:\n",
    "            if lev.distance(query_word,utt_word)<=thres_distance:\n",
    "                dic['correct_words'].append(utt_word)\n",
    "                dic['correct_dtw'].append(min_dtw)\n",
    "                correct_dtw_score.append(min_dtw)\n",
    "                hasMatch = True\n",
    "                break\n",
    "                \n",
    "        if hasMatch == False:\n",
    "            dic['incorrect_words'].append(query_word)\n",
    "            dic['incorrect_dtw'].append(min_dtw)\n",
    "            incorrect_dtw_score.append(min_dtw)\n",
    "        \n",
    "    num_uttword += len(utt_sent)\n",
    "    num_prediction += len(match)\n",
    "    num_match += len(dic['correct_words'])\n",
    "    num_nomatch += len(dic['incorrect_words'])\n",
    "    \n",
    "    prediction.sort(key = sortThird)\n",
    "    cutoff = False\n",
    "    i+=1\n",
    "    result.append(dic)\n",
    "\n",
    "print('\\nCorrect DTW Average:', end=' ')\n",
    "print(mean(correct_dtw_score))\n",
    "print('Incorrect DTW Average:', end=' ')\n",
    "print(mean(incorrect_dtw_score))\n",
    "print('Number of Matching Words:', end=' ')\n",
    "print(num_match)\n",
    "print('Done\\n') "
   ]
  },
  {
   "cell_type": "markdown",
   "metadata": {},
   "source": [
    "## Plot the Distribution of Correct Match Pairs and Incorrect Match Pairs"
   ]
  },
  {
   "cell_type": "code",
   "execution_count": 18,
   "metadata": {},
   "outputs": [
    {
     "data": {
      "image/png": "[encoded data removed]",
      "text/plain": [
       "<Figure size 432x288 with 1 Axes>"
      ]
     },
     "metadata": {
      "needs_background": "light"
     },
     "output_type": "display_data"
    }
   ],
   "source": [
    "import matplotlib.pyplot as plt\n",
    "import seaborn as sns\n",
    "\n",
    "sns.kdeplot(correct_dtw_score, shade=True, linewidth = 3, label = 'Correct words')\n",
    "sns.kdeplot(incorrect_dtw_score, shade=True, linewidth = 3, label = 'Incorrect words')\n",
    "    \n",
    "# Plot formatting\n",
    "plt.legend(prop={'size': 12})\n",
    "plt.title('Query DTW Cost ' + plot_title)\n",
    "plt.xlabel('DTW Cost')\n",
    "plt.xlim(xmin=0)\n",
    "plt.ylabel('Density')\n",
    "plt.savefig(ftitle+'_dtw.png', dpi=400)"
   ]
  },
  {
   "cell_type": "markdown",
   "metadata": {},
   "source": [
    "## Get Precisions and Recalls"
   ]
  },
  {
   "cell_type": "code",
   "execution_count": 19,
   "metadata": {},
   "outputs": [],
   "source": [
    "# This function returns the precision and recall given the DTW threshold\n",
    "def get_score(dtw_threshold, match_dtw_score, nomatch_dtw_score, word_count):\n",
    "    num_spotted = len(list(filter(lambda x: x < dtw_threshold, match_dtw_score)))\n",
    "    num_uttword = word_count\n",
    "    num_incorrect = len(list(filter(lambda x: x < dtw_threshold, nomatch_dtw_score)))\n",
    "    num_match = num_incorrect + num_spotted\n",
    "    num_unspotted = len(match_dtw_score) - num_spotted\n",
    "    precision = num_spotted/num_match\n",
    "    recall = num_spotted/(num_spotted+num_unspotted)\n",
    "    return precision, recall"
   ]
  },
  {
   "cell_type": "code",
   "execution_count": 20,
   "metadata": {},
   "outputs": [
    {
     "name": "stdout",
     "output_type": "stream",
     "text": [
      "206\n",
      "DTW: 0.3491752359292681\n",
      "Precision: 0.2175732217573222\n",
      "Recall: 0.5\n",
      "Max F1: 0.3032069970845481\n"
     ]
    },
    {
     "data": {
      "image/png": "[encoded data removed]",
      "text/plain": [
       "<Figure size 432x288 with 1 Axes>"
      ]
     },
     "metadata": {
      "needs_background": "light"
     },
     "output_type": "display_data"
    }
   ],
   "source": [
    "from matplotlib.pyplot import plot, title, xlabel, ylabel, savefig, legend, ylim\n",
    "from numpy import array, arange\n",
    "\n",
    "dtw_performance = []\n",
    "dtw_threshold = []\n",
    "max_f1 = 0\n",
    "word_count = 0\n",
    "hasFoundRecall = False\n",
    "lower_bound = 0.08\n",
    "higher_bound = 0.02\n",
    "granularity = 0.0001\n",
    "\n",
    "for uttr in result:\n",
    "    word_count += len(uttr['sentence'])\n",
    "\n",
    "for i in arange(mean(correct_dtw_score)-lower_bound,mean(incorrect_dtw_score)-higher_bound,granularity):\n",
    "    p, r = get_score(i, correct_dtw_score, incorrect_dtw_score, word_count)\n",
    "    f1 = 2*((p*r)/(p+r))\n",
    "    if f1>max_f1:\n",
    "        max_f1=f1\n",
    "        default_dtw = i\n",
    "        best_p = p\n",
    "        best_r = r\n",
    "    dtw_performance.append((p,r))\n",
    "    dtw_threshold.append(i)\n",
    "    \n",
    "print('DTW: '+str(default_dtw)+'\\nPrecision: '+str(best_p)+'\\nRecall: '+str(best_r))\n",
    "print('Max F1: '+str(max_f1))\n",
    "\n",
    "# Formatting the plot\n",
    "dtw_threshold = array(dtw_threshold) \n",
    "precision, recall = zip(*dtw_performance)\n",
    "colors_and_labels = (\n",
    "    (precision, 'grey', 'precision'),\n",
    "    (recall, 'orange', 'recall')\n",
    ")\n",
    "\n",
    "for performance, color, label in colors_and_labels:\n",
    "    plot(dtw_threshold, array(performance), color=color, label=label)\n",
    "title('Precision & Recall vs DTW '+plot_title)\n",
    "xlabel('DTW cost')\n",
    "ylabel('Rate')\n",
    "ylim(0,1)\n",
    "legend()\n",
    "\n",
    "savefig(ftitle+'_accuracy.png', dpi=400)"
   ]
  },
  {
   "cell_type": "markdown",
   "metadata": {},
   "source": [
    "## Print Out Word-Spotting Examples "
   ]
  },
  {
   "cell_type": "code",
   "execution_count": 24,
   "metadata": {},
   "outputs": [
    {
     "name": "stdout",
     "output_type": "stream",
     "text": [
      "Utterance: \tkun-warre kumekke wurdwurd kabirri-nan\n",
      "Spotted Words:\tkabirrinan \n",
      "False Positive:\tbedman bedmanwali bolkki kabirribolbme karrme kayime kunred manekke \n",
      "Failed to Spot:\twurdwurd \n",
      "\n",
      "Utterance: \twurdwurd ngadberre yiman kayime\n",
      "Spotted Words:\tkayime ngadberre yiman \n",
      "False Positive:\tbedman bedmanwali bolkki kabirribolbme kabirrinan karrme kunred manekke ngarrbenbukkan yerre \n",
      "Failed to Spot:\twurdwurd \n",
      "\n",
      "Utterance: \tkun-warre kumekke kabirri-nan\n",
      "Spotted Words:\t\n",
      "False Positive:\tmanekke njaleken wanjh yerre \n",
      "Failed to Spot:\tkabirrinan \n",
      "\n"
     ]
    }
   ],
   "source": [
    "ex = [2,17,44]\n",
    "for uttr_id in ex:\n",
    "    spotted_words = []\n",
    "    false_words = []\n",
    "    fail_to_spot = []\n",
    "    match = set()\n",
    "    close_words = set()\n",
    "    for query in word_list:        \n",
    "        query_word = query[\"word\"].lower()\n",
    "        query_mfcc = np.float64(query[\"data\"])\n",
    "        search_mfcc = np.float64(speech_utt[uttr_id][\"data\"])\n",
    "        dtw_costs = qbe.dtw_sweep(query_mfcc, search_mfcc)\n",
    "        min_dtw = np.min(dtw_costs)\n",
    "        utt_sent = word_tokenize(speech_utt[uttr_id]['word'].lower().replace('-',''))\n",
    "        hasMatch = False               \n",
    "\n",
    "        for utt_word in utt_sent:\n",
    "            if min_dtw < default_dtw:\n",
    "                if lev.distance(query_word,utt_word)<=thres_distance:\n",
    "                    spotted_words.append(utt_word)\n",
    "                    hasMatch = True\n",
    "                    break\n",
    "            else:\n",
    "                if lev.distance(query_word,utt_word)<=thres_distance:\n",
    "                    fail_to_spot.append(utt_word)\n",
    "                \n",
    "        if hasMatch == False and min_dtw < default_dtw:\n",
    "            false_words.append(query_word) \n",
    "\n",
    "    print('Utterance: \\t'+speech_utt[uttr_id]['word'])\n",
    "    print('Spotted Words:', end='\\t')\n",
    "    for word in spotted_words:\n",
    "        print(word, end=' ') \n",
    "    print('\\nFalse Positive:', end='\\t')\n",
    "    for word in false_words:\n",
    "        print(word, end=' ')\n",
    "    print('\\nFailed to Spot:', end='\\t')\n",
    "    for word in fail_to_spot:\n",
    "        print(word, end=' ')\n",
    "    print('\\n') \n"
   ]
  },
  {
   "cell_type": "markdown",
   "metadata": {},
   "source": [
    "## Save Data"
   ]
  },
  {
   "cell_type": "code",
   "execution_count": null,
   "metadata": {},
   "outputs": [],
   "source": [
    "data = {}\n",
    "data['result'] = result\n",
    "data['match_dtw'] = correct_dtw_score\n",
    "data['nomatch_dtw'] = incorrect_dtw_score\n",
    "data['precision']= best_p\n",
    "data['recall'] = best_r\n",
    "data['dtw']= default_dtw\n",
    "data['maxf1']= max_f1"
   ]
  },
  {
   "cell_type": "code",
   "execution_count": null,
   "metadata": {},
   "outputs": [],
   "source": [
    "with open(ftitle+'.data', 'wb') as filehandle:\n",
    "    pickle.dump(data, filehandle)"
   ]
  }
 ],
 "metadata": {
  "kernelspec": {
   "display_name": "Python 3",
   "language": "python",
   "name": "python3"
  },
  "language_info": {
   "codemirror_mode": {
    "name": "ipython",
    "version": 3
   },
   "file_extension": ".py",
   "mimetype": "text/x-python",
   "name": "python",
   "nbconvert_exporter": "python",
   "pygments_lexer": "ipython3",
   "version": "3.7.7"
  }
 },
 "nbformat": 4,
 "nbformat_minor": 4
}
