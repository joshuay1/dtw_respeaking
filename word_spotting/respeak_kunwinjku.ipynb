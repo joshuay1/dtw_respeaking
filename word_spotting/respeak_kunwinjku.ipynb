{
 "cells": [
  {
   "cell_type": "markdown",
   "metadata": {},
   "source": [
    "# Query-by-Example (QbE) Search Using DTW"
   ]
  },
  {
   "cell_type": "markdown",
   "metadata": {},
   "source": [
    "## Preliminary"
   ]
  },
  {
   "cell_type": "code",
   "execution_count": 3,
   "metadata": {},
   "outputs": [],
   "source": [
    "%matplotlib inline\n",
    "%load_ext autoreload\n",
    "%autoreload 2"
   ]
  },
  {
   "cell_type": "code",
   "execution_count": 2,
   "metadata": {},
   "outputs": [
    {
     "name": "stderr",
     "output_type": "stream",
     "text": [
      "/home/josh/miniconda3/lib/python3.7/site-packages/pydub/utils.py:165: RuntimeWarning: Couldn't find ffmpeg or avconv - defaulting to ffmpeg, but may not work\n",
      "  warn(\"Couldn't find ffmpeg or avconv - defaulting to ffmpeg, but may not work\", RuntimeWarning)\n",
      "/home/josh/miniconda3/lib/python3.7/site-packages/pydub/utils.py:179: RuntimeWarning: Couldn't find ffplay or avplay - defaulting to ffplay, but may not work\n",
      "  warn(\"Couldn't find ffplay or avplay - defaulting to ffplay, but may not work\", RuntimeWarning)\n",
      "[nltk_data] Downloading package punkt to /home/josh/nltk_data...\n",
      "[nltk_data]   Package punkt is already up-to-date!\n"
     ]
    }
   ],
   "source": [
    "from __future__ import division\n",
    "from __future__ import print_function\n",
    "from os import path\n",
    "from python_speech_features import delta\n",
    "from python_speech_features import mfcc\n",
    "import glob\n",
    "import matplotlib.pyplot as plt\n",
    "import numpy as np\n",
    "import scipy.io.wavfile as wav\n",
    "import sys\n",
    "import simpleaudio as sa\n",
    "from pydub import AudioSegment\n",
    "from pydub.playback import play\n",
    "from shennong.audio import Audio\n",
    "from shennong.features.processor.mfcc import MfccProcessor\n",
    "from shennong.features.postprocessor.delta import DeltaPostProcessor\n",
    "from shennong.features.postprocessor.cmvn import CmvnPostProcessor\n",
    "from progress.bar import Bar\n",
    "from datetime import datetime\n",
    "from nltk import word_tokenize\n",
    "import nltk\n",
    "nltk.download('punkt')\n",
    "import Levenshtein as lev\n",
    "import pickle\n",
    "\n",
    "sys.path.append(\"..\")\n",
    "sys.path.append(path.join(\"..\", \"utils\"))\n",
    "\n",
    "from speech_dtw import qbe"
   ]
  },
  {
   "cell_type": "markdown",
   "metadata": {},
   "source": [
    "## Extract features"
   ]
  },
  {
   "cell_type": "code",
   "execution_count": 4,
   "metadata": {},
   "outputs": [],
   "source": [
    "def get_mfcc_dd(wav_fn):\n",
    "    \"\"\"Return the MFCCs with deltas and delta-deltas for a audio file.\"\"\"\n",
    "    audio = Audio.load(wav_fn)\n",
    "    processor = MfccProcessor(sample_rate=audio.sample_rate, window_type=\"hamming\",frame_length=0.025, frame_shift=0.01,\n",
    "                              cepstral_lifter=26.0,low_freq=0, vtln_low=60, vtln_high=7200, high_freq=audio.sample_rate/2)\n",
    "    d_processor = DeltaPostProcessor(order=2)\n",
    "    mfcc_static = processor.process(audio.channel(0), vtln_warp=1.0)\n",
    "    mfcc_deltas = d_processor.process(mfcc_static)\n",
    "    #print(mfcc_static.shape, mfcc_deltas.shape)\n",
    "    features = mfcc_deltas._to_dict()[\"data\"]\n",
    "    features = (features - np.mean(features, axis=0)) / np.std(features, axis=0)\n",
    "    #print(features.shape)\n",
    "    return features"
   ]
  },
  {
   "cell_type": "code",
   "execution_count": 28,
   "metadata": {},
   "outputs": [],
   "source": [
    "#words_txt = 'english_words/common_words_500.txt'\n",
    "#words_dir = 'english_words/500_common'\n",
    "#word_wav = 'common_word_*.wav'\n",
    "ftitle = 'kunwok_diff_speaker_with_respeaking'\n",
    "plot_title = ' (Kunwok Topic Words + Respeaking)'\n",
    "#words_txt = 'english_words/redfern_words.txt'\n",
    "words_dir = 'kunwok_words/interview_words_will'\n",
    "word_wav = '*.wav'\n",
    "target_speech_dir = 'kunwok_speech/interview_rspk'\n",
    "#target_speech_dir = 'redfern_rspk'\n",
    "target_speech_txt = '*.txt'\n",
    "target_speech_wav = '*.wav'"
   ]
  },
  {
   "cell_type": "markdown",
   "metadata": {},
   "source": [
    "## Take Query Words"
   ]
  },
  {
   "cell_type": "code",
   "execution_count": 29,
   "metadata": {},
   "outputs": [
    {
     "name": "stdout",
     "output_type": "stream",
     "text": [
      "bedman bedmanwali birrimunkewemeninj bolkki dabborrabbolk kabirribolbme kabirrinan karrme kayime kunred manekke manih nakohbanj namekke nawernrayinj ngadberre ngarrbenbukkan ngarridi ngarrikohbanjmen ngarrinan ngarriwam ngurlken njaleken wanjh wurdwurd yerre yiman yolyolme "
     ]
    }
   ],
   "source": [
    "word_list = []\n",
    "for wav_fn in sorted(glob.glob(path.join(words_dir, word_wav))):\n",
    "    query = {} \n",
    "    txt_file = open(wav_fn.replace('wav','txt'), \"r\")\n",
    "    query[\"word\"] = txt_file.read()\n",
    "    print(query[\"word\"], end=' ')\n",
    "    rate, signal = wav.read(wav_fn)\n",
    "    length = len(signal) / rate * 1000\n",
    "    query_mfcc = get_mfcc_dd(wav_fn)   \n",
    "    query[\"length\"] = length\n",
    "    query[\"data\"] = query_mfcc\n",
    "    query[\"audio\"] = AudioSegment.from_file(wav_fn, format=\"wav\")\n",
    "    query[\"thres\"] = 1\n",
    "    #play(query[\"audio\"])\n",
    "    word_list.append(query)\n"
   ]
  },
  {
   "cell_type": "code",
   "execution_count": 30,
   "metadata": {},
   "outputs": [
    {
     "name": "stdout",
     "output_type": "stream",
     "text": [
      "28\n",
      "dabborrabbolk\n"
     ]
    }
   ],
   "source": [
    "print(len(word_list))\n",
    "print(word_list[4][\"word\"])\n",
    "#play(word_list[4][\"audio\"])\n",
    "#print(query[\"data\"].shape)"
   ]
  },
  {
   "cell_type": "markdown",
   "metadata": {},
   "source": [
    "## Take Target Speech Utterances"
   ]
  },
  {
   "cell_type": "code",
   "execution_count": 31,
   "metadata": {},
   "outputs": [
    {
     "name": "stdout",
     "output_type": "stream",
     "text": [
      "ngandi-nan ngadberre kun-warre kabirri-nan\n"
     ]
    }
   ],
   "source": [
    "speech_utt = []\n",
    "for wav_fn in sorted(glob.glob(path.join(target_speech_dir, target_speech_wav))):\n",
    "    dic = {}\n",
    "    #print(wav_fn)\n",
    "    dic[\"audio\"] = AudioSegment.from_file(wav_fn, format=\"wav\")\n",
    "    dic[\"data\"] = get_mfcc_dd(wav_fn)\n",
    "    txt_file = open(wav_fn.replace('wav','txt'), \"r\")\n",
    "    dic[\"word\"] = txt_file.read()\n",
    "    speech_utt.append(dic)\n",
    "\n",
    "print(speech_utt[5]['word'])  \n",
    "#play(speech_utt[5]['audio'])"
   ]
  },
  {
   "cell_type": "code",
   "execution_count": 32,
   "metadata": {},
   "outputs": [
    {
     "name": "stdout",
     "output_type": "stream",
     "text": [
      "bedmanwali\n",
      "kunukka bu nga-wam pre-school but\n"
     ]
    },
    {
     "data": {
      "text/plain": [
       "[<matplotlib.lines.Line2D at 0x7f40d8215190>]"
      ]
     },
     "execution_count": 32,
     "metadata": {},
     "output_type": "execute_result"
    },
    {
     "data": {
      "image/png": "[encoded data removed]",
      "text/plain": [
       "<Figure size 432x288 with 1 Axes>"
      ]
     },
     "metadata": {
      "needs_background": "light"
     },
     "output_type": "display_data"
    }
   ],
   "source": [
    "print(word_list[1][\"word\"])\n",
    "print(speech_utt[30][\"word\"])\n",
    "#print(redfern_word_list[1][\"data\"], redfern_rspk[2][\"data\"])\n",
    "#print(np.float64(redfern_word_list[1][\"data\"]), np.float64(redfern_rspk[2][\"data\"]))\n",
    "sweep_original = qbe.dtw_sweep(np.float64(word_list[1][\"data\"]), np.float64(speech_utt[30][\"data\"]))\n",
    "plt.plot(sweep_original,color='green')\n",
    "#play(word_list[1]['audio'])\n",
    "#play(speech_utt[30][\"audio\"])"
   ]
  },
  {
   "cell_type": "code",
   "execution_count": 12,
   "metadata": {},
   "outputs": [
    {
     "name": "stdout",
     "output_type": "stream",
     "text": [
      "56\n"
     ]
    }
   ],
   "source": [
    "print(len(speech_utt))"
   ]
  },
  {
   "cell_type": "code",
   "execution_count": 33,
   "metadata": {},
   "outputs": [
    {
     "name": "stdout",
     "output_type": "stream",
     "text": [
      "0 1 2 3 4 5 6 7 8 9 10 11 12 13 14 15 16 17 18 19 20 21 22 23 24 25 26 27 28 29 30 31 32 33 34 35 36 37 38 39 40 41 42 43 44 45 46 47 48 49 50 51 52 53 54 \n",
      "Correct DTW Average: 0.3533926278948198\n",
      "Incorrect DTW Average: 0.3812709979566751\n",
      "Number of Matching Words: 104\n",
      "Done\n",
      "\n"
     ]
    }
   ],
   "source": [
    "from tqdm import tqdm\n",
    "from statistics import mean\n",
    "result = []\n",
    "num_uttword = 0\n",
    "num_match = 0 \n",
    "num_prediction = 0\n",
    "num_nomatch = 0\n",
    "thres_distance = 1\n",
    "#common_words_penalty = 1.2\n",
    "correct_dtw_score = []\n",
    "incorrect_dtw_score = []\n",
    "\n",
    "def sortThird(val): \n",
    "    return val[2]  \n",
    "\n",
    "for uttr in range(0,len(speech_utt)):\n",
    "    print(uttr, end=' ')\n",
    "    dic = {}\n",
    "    dic['correct_words'] = []\n",
    "    dic['incorrect_words'] = []\n",
    "    dic['correct_dtw'] = []\n",
    "    dic['incorrect_dtw'] = []\n",
    "    prediction = []\n",
    "    match = set()\n",
    "    close_words = set()\n",
    "    length = len(speech_utt[uttr][\"data\"])/100\n",
    "    #print('Length of the Utterance: ' +str(length)+'s')\n",
    "    #print(len(speech_utt[uttr][\"audio\"]))\n",
    "    for query in word_list:        \n",
    "        query_word = query[\"word\"].lower()\n",
    "        query_mfcc = np.float64(query[\"data\"])\n",
    "        search_mfcc = np.float64(speech_utt[uttr][\"data\"])\n",
    "        dtw_costs = qbe.dtw_sweep(query_mfcc, search_mfcc)\n",
    "        min_dtw = np.min(dtw_costs)\n",
    "        utt_sent = word_tokenize(speech_utt[uttr]['word'].lower().replace('-',''))\n",
    "        time = dtw_costs.index(min_dtw)*3/100\n",
    "        hasMatch = False\n",
    "        dic['sentence'] = utt_sent\n",
    "        \n",
    "        #if min_dtw < 0.3178:\n",
    "            #prediction.append((query_word, time, min_dtw))\n",
    "      \n",
    "        for utt_word in utt_sent:\n",
    "            if lev.distance(query_word,utt_word)<=thres_distance:\n",
    "                dic['correct_words'].append(utt_word)\n",
    "                dic['correct_dtw'].append(min_dtw)\n",
    "                correct_dtw_score.append(min_dtw)\n",
    "                #dic['time']=dtw_costs.index(min_dtw)*3/100\n",
    "                #length = len(dtw_costs)*3/100\n",
    "                #sweep_original = qbe.dtw_sweep(np.float64(query[\"data\"]), np.float64(speech_utt[uttr][\"data\"]))\n",
    "                #plt.plot(sweep_original,color='green')\n",
    "                #print('{:<20}'.format(utt_word), end=' ')\n",
    "                #print('{:<20}'.format(query_word), end=' ')\n",
    "                #print(\"%0.3f\" % min_dtw, end='\\t\\t')\n",
    "                #print(dic['time'], length)\n",
    "                hasMatch = True\n",
    "                #print('spotted_words:')\n",
    "                #print(query_word,min_dtw)\n",
    "                #play(query['audio'])\n",
    "                #play(speech_utt[uttr][\"audio\"])\n",
    "                break\n",
    "                \n",
    "        if hasMatch == False:\n",
    "            dic['incorrect_words'].append(query_word)\n",
    "            dic['incorrect_dtw'].append(min_dtw)\n",
    "            incorrect_dtw_score.append(min_dtw)\n",
    "            #print('incorrect_words:')\n",
    "            #print(query_word,min_dtw)        \n",
    "        \n",
    "    num_uttword += len(utt_sent)\n",
    "    #num_prediction += len(match)\n",
    "    num_match += len(dic['correct_words'])\n",
    "    num_nomatch += len(dic['incorrect_words'])\n",
    "    \n",
    "    #prediction.sort(key = sortThird)\n",
    "    #prediction.sort(key = sortSecond)\n",
    "    #print(speech_utt[uttr]['word'])\n",
    "    #for w in prediction:\n",
    "        #string = str('|%0.1f'% w[1])+'s|'+str(w[0])+str('|DTW:%0.3f|'% w[2])\n",
    "        #left = string.rjust(int(20*w[1]+len(string)),'-')\n",
    "        #full = left.ljust(int(20*length),'-')\n",
    "        #print(full,end='|\\n')\n",
    "        #print(int(10*spotted[1])*' '+ spotted[0] +' '+ str(\"%0.3f\" % spotted[1])+int(10*spotted[3])*' '+'|')\n",
    "    #print('\\n')\n",
    "    #word_recognition_rate, precision, recall = get_score(num_uttword, num_spotted, num_prediction, num_unspotted)\n",
    "    \n",
    "    result.append(dic)\n",
    "#    if len(correct_dtw_score)>0:\n",
    "#        print('\\nCorrect DTW Average:', end=' ')\n",
    "#        print(mean(correct_dtw_score))\n",
    "#    print('Incorrect DTW Average:', end=' ')\n",
    "#    print(mean(incorrect_dtw_score))\n",
    "#    print('\\n') \n",
    "print('\\nCorrect DTW Average:', end=' ')\n",
    "print(mean(correct_dtw_score))\n",
    "print('Incorrect DTW Average:', end=' ')\n",
    "print(mean(incorrect_dtw_score))\n",
    "print('Number of Matching Words:', end=' ')\n",
    "print(num_match)\n",
    "print('Done\\n') "
   ]
  },
  {
   "cell_type": "code",
   "execution_count": 34,
   "metadata": {},
   "outputs": [
    {
     "name": "stdout",
     "output_type": "stream",
     "text": [
      "\n",
      "Correct DTW Average: 0.3533926278948198\n",
      "Incorrect DTW Average: 0.3812709979566751\n",
      "Number of Total Words: 206\n",
      "Number of Match Words: 104\n"
     ]
    }
   ],
   "source": [
    "print('\\nCorrect DTW Average:', end=' ')\n",
    "print(mean(correct_dtw_score))\n",
    "print('Incorrect DTW Average:', end=' ')\n",
    "print(mean(incorrect_dtw_score))\n",
    "print('Number of Total Words:', end=' ')\n",
    "print(num_uttword)\n",
    "print('Number of Match Words:', end=' ')\n",
    "print(num_match)"
   ]
  },
  {
   "cell_type": "code",
   "execution_count": 35,
   "metadata": {},
   "outputs": [
    {
     "data": {
      "image/png": "[encoded data removed]",
      "text/plain": [
       "<Figure size 432x288 with 1 Axes>"
      ]
     },
     "metadata": {
      "needs_background": "light"
     },
     "output_type": "display_data"
    }
   ],
   "source": [
    "import matplotlib.pyplot as plt\n",
    "import seaborn as sns\n",
    "\n",
    "sns.kdeplot(correct_dtw_score, shade=True, linewidth = 3, label = 'Correct words')\n",
    "sns.kdeplot(incorrect_dtw_score, shade=True, linewidth = 3, label = 'Incorrect words')\n",
    "    \n",
    "# Plot formatting\n",
    "plt.legend(prop={'size': 12})\n",
    "plt.title('Query DTW Cost ' + plot_title)\n",
    "plt.xlabel('DTW Cost')\n",
    "plt.ylabel('Density')\n",
    "plt.savefig(ftitle+'_dtw.png', dpi=400)"
   ]
  },
  {
   "cell_type": "code",
   "execution_count": 36,
   "metadata": {},
   "outputs": [],
   "source": [
    "def get_score(dtw_threshold, match_dtw_score, nomatch_dtw_score, word_count):\n",
    "    num_spotted = len(list(filter(lambda x: x < dtw_threshold, match_dtw_score)))\n",
    "    num_uttword = word_count\n",
    "    num_incorrect = len(list(filter(lambda x: x < dtw_threshold, nomatch_dtw_score)))\n",
    "    #print(num_spotted, num_incorrect)\n",
    "    num_match = num_incorrect + num_spotted\n",
    "    num_unspotted = len(match_dtw_score) - num_spotted\n",
    "    \n",
    "   #print(num_spotted, num_uttword, num_incorrect, num_match, num_unspotted)\n",
    "       \n",
    "    #word_recognition_rate = num_spotted/num_uttword\n",
    "    precision = num_spotted/num_match\n",
    "    recall = num_spotted/(num_spotted+num_unspotted)\n",
    "   #print(word_recognition_rate, precision, recall)\n",
    "    return precision, recall"
   ]
  },
  {
   "cell_type": "markdown",
   "metadata": {},
   "source": [
    "## Get Precisions and Recalls"
   ]
  },
  {
   "cell_type": "code",
   "execution_count": 37,
   "metadata": {},
   "outputs": [
    {
     "name": "stdout",
     "output_type": "stream",
     "text": [
      "206\n",
      "DTW: 0.3410926278948123\n",
      "Precision: 0.22784810126582278\n",
      "Recall: 0.34615384615384615\n",
      "Max F1: 0.2748091603053435\n"
     ]
    },
    {
     "data": {
      "image/png": "[encoded data removed]",
      "text/plain": [
       "<Figure size 432x288 with 1 Axes>"
      ]
     },
     "metadata": {
      "needs_background": "light"
     },
     "output_type": "display_data"
    }
   ],
   "source": [
    "from matplotlib.pyplot import plot, title, xlabel, ylabel, savefig, legend, ylim\n",
    "from numpy import array, arange\n",
    "\n",
    "dtw_performance = []\n",
    "dtw_threshold = []\n",
    "max_f1 = 0\n",
    "\n",
    "word_count = 0\n",
    "for uttr in result:\n",
    "    word_count += len(uttr['sentence'])\n",
    "print(word_count)   \n",
    "\n",
    "hasFoundRecall = False\n",
    "for i in arange(mean(correct_dtw_score)-0.08,mean(incorrect_dtw_score)-0.02,0.0001):\n",
    "    p, r = get_score(i, correct_dtw_score, incorrect_dtw_score, word_count)\n",
    "    f1 = 2*((p*r)/(p+r))\n",
    "    if f1>max_f1:\n",
    "        max_f1=f1\n",
    "        default_dtw = i\n",
    "        best_p = p\n",
    "        best_r = r\n",
    "    dtw_performance.append((p,r))\n",
    "    dtw_threshold.append(i)\n",
    "    \n",
    "print('DTW: '+str(default_dtw)+'\\nPrecision: '+str(best_p)+'\\nRecall: '+str(best_r))\n",
    "print('Max F1: '+str(max_f1))\n",
    "dtw_threshold = array(dtw_threshold) \n",
    "#print(dtw_performance)\n",
    "#print(dtw_threshold)\n",
    "\n",
    "#recognised, \n",
    "precision, recall = zip(*dtw_performance)\n",
    "colors_and_labels = (\n",
    "   # (recognised, 'green', 'rate'),\n",
    "    (precision, 'grey', 'precision'),\n",
    "    (recall, 'orange', 'recall')\n",
    ")\n",
    "\n",
    "for performance, color, label in colors_and_labels:\n",
    "    plot(dtw_threshold, array(performance), color=color, label=label)\n",
    "title('Precision & Recall vs DTW '+plot_title)\n",
    "xlabel('DTW cost')\n",
    "ylabel('Rate')\n",
    "ylim(0,1)\n",
    "legend()\n",
    "\n",
    "savefig(ftitle+'_accuracy.png', dpi=400)"
   ]
  },
  {
   "cell_type": "code",
   "execution_count": 25,
   "metadata": {},
   "outputs": [
    {
     "name": "stderr",
     "output_type": "stream",
     "text": [
      "ERROR - Internal Python error in the inspect module.\n",
      "Below is the traceback from this internal error.\n",
      "\n",
      "INFO - \n",
      "Unfortunately, your original traceback can not be constructed.\n",
      "\n"
     ]
    },
    {
     "name": "stdout",
     "output_type": "stream",
     "text": [
      "Traceback (most recent call last):\n",
      "  File \"/home/josh/miniconda3/lib/python3.7/site-packages/IPython/core/interactiveshell.py\", line 3331, in run_code\n",
      "    exec(code_obj, self.user_global_ns, self.user_ns)\n",
      "  File \"<ipython-input-25-25f03d8b2d8f>\", line 11, in <module>\n",
      "    dtw_costs = qbe.dtw_sweep(query_mfcc, search_mfcc)\n",
      "  File \"../speech_dtw/qbe.py\", line 28, in dtw_sweep\n",
      "    True)\n",
      "KeyboardInterrupt\n",
      "\n",
      "During handling of the above exception, another exception occurred:\n",
      "\n",
      "Traceback (most recent call last):\n",
      "  File \"/home/josh/miniconda3/lib/python3.7/site-packages/IPython/core/interactiveshell.py\", line 2044, in showtraceback\n",
      "    stb = value._render_traceback_()\n",
      "AttributeError: 'KeyboardInterrupt' object has no attribute '_render_traceback_'\n",
      "\n",
      "During handling of the above exception, another exception occurred:\n",
      "\n",
      "Traceback (most recent call last):\n",
      "  File \"/home/josh/miniconda3/lib/python3.7/site-packages/IPython/core/ultratb.py\", line 1148, in get_records\n",
      "    return _fixed_getinnerframes(etb, number_of_lines_of_context, tb_offset)\n",
      "  File \"/home/josh/miniconda3/lib/python3.7/site-packages/IPython/core/ultratb.py\", line 316, in wrapped\n",
      "    return f(*args, **kwargs)\n",
      "  File \"/home/josh/miniconda3/lib/python3.7/site-packages/IPython/core/ultratb.py\", line 350, in _fixed_getinnerframes\n",
      "    records = fix_frame_records_filenames(inspect.getinnerframes(etb, context))\n",
      "  File \"/home/josh/miniconda3/lib/python3.7/inspect.py\", line 1502, in getinnerframes\n",
      "    frameinfo = (tb.tb_frame,) + getframeinfo(tb, context)\n",
      "  File \"/home/josh/miniconda3/lib/python3.7/inspect.py\", line 1460, in getframeinfo\n",
      "    filename = getsourcefile(frame) or getfile(frame)\n",
      "  File \"/home/josh/miniconda3/lib/python3.7/inspect.py\", line 693, in getsourcefile\n",
      "    if os.path.exists(filename):\n",
      "  File \"/home/josh/miniconda3/lib/python3.7/genericpath.py\", line 19, in exists\n",
      "    os.stat(path)\n",
      "KeyboardInterrupt\n"
     ]
    },
    {
     "ename": "KeyboardInterrupt",
     "evalue": "",
     "output_type": "error",
     "traceback": [
      "\u001b[0;31m---------------------------------------------------------------------------\u001b[0m"
     ]
    }
   ],
   "source": [
    "for uttr_id in range(len(speech_utt)):\n",
    "    spotted_words = []\n",
    "    false_words = []\n",
    "    fail_to_spot = []\n",
    "    match = set()\n",
    "    close_words = set()\n",
    "    for query in word_list:        \n",
    "        query_word = query[\"word\"].lower()\n",
    "        query_mfcc = np.float64(query[\"data\"])\n",
    "        search_mfcc = np.float64(speech_utt[uttr_id][\"data\"])\n",
    "        dtw_costs = qbe.dtw_sweep(query_mfcc, search_mfcc)\n",
    "        min_dtw = np.min(dtw_costs)\n",
    "        utt_sent = word_tokenize(speech_utt[uttr_id]['word'].lower().replace('-',''))\n",
    "        hasMatch = False               \n",
    "\n",
    "        for utt_word in utt_sent:\n",
    "            if min_dtw < default_dtw:\n",
    "                if lev.distance(query_word,utt_word)<=thres_distance:\n",
    "                    spotted_words.append(utt_word)\n",
    "                    hasMatch = True\n",
    "                    #print('Correct:')\n",
    "                    #print(query_word)\n",
    "                    break\n",
    "            else:\n",
    "                if lev.distance(query_word,utt_word)<=thres_distance:\n",
    "                    #print(query_word,utt_word)\n",
    "                    fail_to_spot.append(utt_word)\n",
    "                    #play(query[\"audio\"])\n",
    "                    #play(speech_utt[uttr_id][\"audio\"])\n",
    "                \n",
    "        if hasMatch == False and min_dtw < default_dtw:\n",
    "            false_words.append(query_word) \n",
    "                #print('Incorrect:')\n",
    "                #print(query_word)\n",
    "        \n",
    "                #print('Fail to Spot:')\n",
    "                #print(query_word)\n",
    "\n",
    "    print('Utterance: \\t'+speech_utt[uttr_id]['word'])\n",
    "    print('Spotted Words:', end='\\t')\n",
    "    for word in spotted_words:\n",
    "        print(word, end=' ') \n",
    "    print('\\nFalse Positive:', end='\\t')\n",
    "    for word in false_words:\n",
    "        print(word, end=' ')\n",
    "    print('\\nFailed to Spot:', end='\\t')\n",
    "    for word in fail_to_spot:\n",
    "        print(word, end=' ')\n",
    "    print('\\n') \n"
   ]
  },
  {
   "cell_type": "markdown",
   "metadata": {},
   "source": [
    "## Save Data"
   ]
  },
  {
   "cell_type": "code",
   "execution_count": 26,
   "metadata": {},
   "outputs": [],
   "source": [
    "data = {}\n",
    "data['result'] = result\n",
    "data['match_dtw'] = correct_dtw_score\n",
    "data['nomatch_dtw'] = incorrect_dtw_score\n",
    "data['precision']= best_p\n",
    "data['recall'] = best_r\n",
    "data['dtw']= default_dtw\n",
    "data['maxf1']= max_f1"
   ]
  },
  {
   "cell_type": "code",
   "execution_count": 27,
   "metadata": {},
   "outputs": [],
   "source": [
    "with open(ftitle+'.data', 'wb') as filehandle:\n",
    "    pickle.dump(data, filehandle)"
   ]
  },
  {
   "cell_type": "code",
   "execution_count": null,
   "metadata": {},
   "outputs": [],
   "source": []
  }
 ],
 "metadata": {
  "kernelspec": {
   "display_name": "Python 3",
   "language": "python",
   "name": "python3"
  },
  "language_info": {
   "codemirror_mode": {
    "name": "ipython",
    "version": 3
   },
   "file_extension": ".py",
   "mimetype": "text/x-python",
   "name": "python",
   "nbconvert_exporter": "python",
   "pygments_lexer": "ipython3",
   "version": "3.7.6"
  }
 },
 "nbformat": 4,
 "nbformat_minor": 4
}
