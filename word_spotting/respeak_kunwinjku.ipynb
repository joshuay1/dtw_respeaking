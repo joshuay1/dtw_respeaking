{
 "cells": [
  {
   "cell_type": "markdown",
   "metadata": {},
   "source": [
    "# Query-by-Example (QbE) Search Using DTW"
   ]
  },
  {
   "cell_type": "markdown",
   "metadata": {},
   "source": [
    "## Preliminary"
   ]
  },
  {
   "cell_type": "code",
   "execution_count": 3,
   "metadata": {},
   "outputs": [],
   "source": [
    "%matplotlib inline\n",
    "%load_ext autoreload\n",
    "%autoreload 2"
   ]
  },
  {
   "cell_type": "code",
   "execution_count": 4,
   "metadata": {},
   "outputs": [
    {
     "name": "stderr",
     "output_type": "stream",
     "text": [
      "/home/josh/miniconda3/lib/python3.7/site-packages/pydub/utils.py:165: RuntimeWarning: Couldn't find ffmpeg or avconv - defaulting to ffmpeg, but may not work\n",
      "  warn(\"Couldn't find ffmpeg or avconv - defaulting to ffmpeg, but may not work\", RuntimeWarning)\n",
      "/home/josh/miniconda3/lib/python3.7/site-packages/pydub/utils.py:179: RuntimeWarning: Couldn't find ffplay or avplay - defaulting to ffplay, but may not work\n",
      "  warn(\"Couldn't find ffplay or avplay - defaulting to ffplay, but may not work\", RuntimeWarning)\n",
      "[nltk_data] Downloading package punkt to /home/josh/nltk_data...\n",
      "[nltk_data]   Package punkt is already up-to-date!\n"
     ]
    }
   ],
   "source": [
    "from __future__ import division\n",
    "from __future__ import print_function\n",
    "from os import path\n",
    "from python_speech_features import delta\n",
    "from python_speech_features import mfcc\n",
    "import glob\n",
    "import matplotlib.pyplot as plt\n",
    "import numpy as np\n",
    "import scipy.io.wavfile as wav\n",
    "import sys\n",
    "import simpleaudio as sa\n",
    "from pydub import AudioSegment\n",
    "from pydub.playback import play\n",
    "from shennong.audio import Audio\n",
    "from shennong.features.processor.mfcc import MfccProcessor\n",
    "from shennong.features.postprocessor.delta import DeltaPostProcessor\n",
    "from shennong.features.postprocessor.cmvn import CmvnPostProcessor\n",
    "from progress.bar import Bar\n",
    "from datetime import datetime\n",
    "from nltk import word_tokenize\n",
    "import nltk\n",
    "nltk.download('punkt')\n",
    "import Levenshtein as lev\n",
    "import pickle\n",
    "\n",
    "sys.path.append(\"..\")\n",
    "sys.path.append(path.join(\"..\", \"utils\"))\n",
    "\n",
    "from speech_dtw import qbe"
   ]
  },
  {
   "cell_type": "markdown",
   "metadata": {},
   "source": [
    "## Extract features"
   ]
  },
  {
   "cell_type": "code",
   "execution_count": 5,
   "metadata": {},
   "outputs": [],
   "source": [
    "def get_mfcc_dd(wav_fn):\n",
    "    \"\"\"Return the MFCCs with deltas and delta-deltas for a audio file.\"\"\"\n",
    "    audio = Audio.load(wav_fn)\n",
    "    processor = MfccProcessor(sample_rate=audio.sample_rate, window_type=\"hamming\",frame_length=0.025, frame_shift=0.01,\n",
    "                              cepstral_lifter=26.0,low_freq=0, vtln_low=60, vtln_high=7200, high_freq=audio.sample_rate/2)\n",
    "    d_processor = DeltaPostProcessor(order=2)\n",
    "    mfcc_static = processor.process(audio.channel(0), vtln_warp=1.0)\n",
    "    mfcc_deltas = d_processor.process(mfcc_static)\n",
    "    #print(mfcc_static.shape, mfcc_deltas.shape)\n",
    "    features = mfcc_deltas._to_dict()[\"data\"]\n",
    "    features = (features - np.mean(features, axis=0)) / np.std(features, axis=0)\n",
    "    #print(features.shape)\n",
    "    return features"
   ]
  },
  {
   "cell_type": "code",
   "execution_count": 6,
   "metadata": {},
   "outputs": [],
   "source": [
    "#words_txt = 'english_words/common_words_500.txt'\n",
    "#words_dir = 'english_words/500_common'\n",
    "#word_wav = 'common_word_*.wav'\n",
    "ftitle = 'kunwok_original_words'\n",
    "plot_title = ' (Kunwinjku Original Words)'\n",
    "#words_txt = 'english_words/redfern_words.txt'\n",
    "words_dir = 'kunwok_words/common_words'\n",
    "word_wav = '*.wav'\n",
    "target_speech_dir = 'kunwok_speech/interview_orgnl'\n",
    "#target_speech_dir = 'redfern_rspk'\n",
    "target_speech_txt = '*.txt'\n",
    "target_speech_wav = '*.wav'"
   ]
  },
  {
   "cell_type": "markdown",
   "metadata": {},
   "source": [
    "## Take Query Words"
   ]
  },
  {
   "cell_type": "code",
   "execution_count": 7,
   "metadata": {},
   "outputs": [
    {
     "name": "stdout",
     "output_type": "stream",
     "text": [
      "wanjh kinga manekke namekke manme kabirri-nan kabirri-bolbme ngimeng nawu birri-wam njamed wurdurd ngad ngadberre wurdwurd kunak kumekke ku-denge bi-kang ngalmekke borrhkeng kandji kabirri-re bedda karuy bolkkime niwirrinj dabborrabbolk bebhmeng minj man-berrk ngarrben-bukkan birri-yawam manu kun-dulk birri-kadjuy djenj bebmeng munguy ku-red kabirri-yime bininj bi-mey bi-kurrmeng kondah birri-ni bushwalking birri-yoy nameh road bidbom dabuno kun-wale ngarri-re kunred\n",
      "\n",
      " ku-ronj kayime daluk kore "
     ]
    }
   ],
   "source": [
    "word_list = []\n",
    "for wav_fn in sorted(glob.glob(path.join(words_dir, word_wav))):\n",
    "    query = {} \n",
    "    txt_file = open(wav_fn.replace('wav','txt'), \"r\")\n",
    "    query[\"word\"] = txt_file.read()\n",
    "    print(query[\"word\"], end=' ')\n",
    "    rate, signal = wav.read(wav_fn)\n",
    "    length = len(signal) / rate * 1000\n",
    "    query_mfcc = get_mfcc_dd(wav_fn)   \n",
    "    query[\"length\"] = length\n",
    "    query[\"data\"] = query_mfcc\n",
    "    query[\"audio\"] = AudioSegment.from_file(wav_fn, format=\"wav\")\n",
    "    query[\"thres\"] = 1\n",
    "    #play(query[\"audio\"])\n",
    "    word_list.append(query)\n"
   ]
  },
  {
   "cell_type": "code",
   "execution_count": 16,
   "metadata": {},
   "outputs": [
    {
     "name": "stdout",
     "output_type": "stream",
     "text": [
      "32\n",
      "bolkkime\n"
     ]
    }
   ],
   "source": [
    "print(len(word_list))\n",
    "print(word_list[4][\"word\"])\n",
    "play(word_list[4][\"audio\"])\n",
    "#print(query[\"data\"].shape)"
   ]
  },
  {
   "cell_type": "markdown",
   "metadata": {},
   "source": [
    "## Take Target Speech Utterances"
   ]
  },
  {
   "cell_type": "code",
   "execution_count": 21,
   "metadata": {},
   "outputs": [
    {
     "name": "stdout",
     "output_type": "stream",
     "text": [
      "ngandi-nan ngadberre kun-wale kabirri-nan\n"
     ]
    }
   ],
   "source": [
    "speech_utt = []\n",
    "for wav_fn in sorted(glob.glob(path.join(target_speech_dir, target_speech_wav))):\n",
    "    dic = {}\n",
    "    #print(wav_fn)\n",
    "    dic[\"audio\"] = AudioSegment.from_file(wav_fn, format=\"wav\")\n",
    "    dic[\"data\"] = get_mfcc_dd(wav_fn)\n",
    "    txt_file = open(wav_fn.replace('wav','txt'), \"r\")\n",
    "    dic[\"word\"] = txt_file.read()\n",
    "    speech_utt.append(dic)\n",
    "\n",
    "print(speech_utt[5]['word'])  \n",
    "#play(speech_utt[5]['audio'])"
   ]
  },
  {
   "cell_type": "code",
   "execution_count": 24,
   "metadata": {},
   "outputs": [
    {
     "name": "stdout",
     "output_type": "stream",
     "text": [
      "bedmanwali\n",
      "kunukka bu nga-wam pre-school but\n"
     ]
    },
    {
     "data": {
      "text/plain": [
       "[<matplotlib.lines.Line2D at 0x7f952f4482d0>]"
      ]
     },
     "execution_count": 24,
     "metadata": {},
     "output_type": "execute_result"
    },
    {
     "data": {
      "image/png": "[encoded data removed]",
      "text/plain": [
       "<Figure size 432x288 with 1 Axes>"
      ]
     },
     "metadata": {
      "needs_background": "light"
     },
     "output_type": "display_data"
    }
   ],
   "source": [
    "print(word_list[1][\"word\"])\n",
    "print(speech_utt[30][\"word\"])\n",
    "#print(redfern_word_list[1][\"data\"], redfern_rspk[2][\"data\"])\n",
    "#print(np.float64(redfern_word_list[1][\"data\"]), np.float64(redfern_rspk[2][\"data\"]))\n",
    "sweep_original = qbe.dtw_sweep(np.float64(word_list[1][\"data\"]), np.float64(speech_utt[30][\"data\"]))\n",
    "plt.plot(sweep_original,color='green')\n",
    "#play(word_list[2]['audio'])\n",
    "#play(speech_utt[40][\"audio\"])"
   ]
  },
  {
   "cell_type": "code",
   "execution_count": 25,
   "metadata": {},
   "outputs": [
    {
     "name": "stdout",
     "output_type": "stream",
     "text": [
      "56\n"
     ]
    }
   ],
   "source": [
    "print(len(speech_utt))"
   ]
  },
  {
   "cell_type": "code",
   "execution_count": 37,
   "metadata": {},
   "outputs": [
    {
     "name": "stderr",
     "output_type": "stream",
     "text": [
      "100%|██████████| 56/56 [00:43<00:00,  1.29it/s]"
     ]
    },
    {
     "name": "stdout",
     "output_type": "stream",
     "text": [
      "\n",
      "Correct DTW Average: 0.24357946005053716\n",
      "Incorrect DTW Average: 0.3868489479261498\n",
      "Number of Matching Words: 111\n",
      "Done\n",
      "\n"
     ]
    },
    {
     "name": "stderr",
     "output_type": "stream",
     "text": [
      "\n"
     ]
    }
   ],
   "source": [
    "from tqdm import tqdm\n",
    "from statistics import mean\n",
    "result = []\n",
    "num_uttword = 0\n",
    "num_match = 0 \n",
    "num_prediction = 0\n",
    "num_nomatch = 0\n",
    "thres_distance = 0\n",
    "#common_words_penalty = 1.2\n",
    "correct_dtw_score = []\n",
    "incorrect_dtw_score = []\n",
    "\n",
    "def sortThird(val): \n",
    "    return val[2]  \n",
    "\n",
    "for uttr in tqdm(range(0,len(speech_utt))):\n",
    "    dic = {}\n",
    "    dic['correct_words'] = []\n",
    "    dic['incorrect_words'] = []\n",
    "    dic['correct_dtw'] = []\n",
    "    dic['incorrect_dtw'] = []\n",
    "    prediction = []\n",
    "    match = set()\n",
    "    close_words = set()\n",
    "    length = len(speech_utt[uttr][\"data\"])/100\n",
    "    #print('Length of the Utterance: ' +str(length)+'s')\n",
    "    #print(len(speech_utt[uttr][\"audio\"]))\n",
    "    for query in word_list:        \n",
    "        query_word = query[\"word\"].lower()\n",
    "        query_mfcc = np.float64(query[\"data\"])\n",
    "        search_mfcc = np.float64(speech_utt[uttr][\"data\"])\n",
    "        dtw_costs = qbe.dtw_sweep(query_mfcc, search_mfcc)\n",
    "        min_dtw = np.min(dtw_costs)\n",
    "        utt_sent = word_tokenize(speech_utt[uttr]['word'].lower().replace('-',''))\n",
    "        time = dtw_costs.index(min_dtw)*3/100\n",
    "        hasMatch = False\n",
    "        dic['sentence'] = utt_sent\n",
    "        \n",
    "        #if min_dtw < 0.3178:\n",
    "            #prediction.append((query_word, time, min_dtw))\n",
    "      \n",
    "        for utt_word in utt_sent:\n",
    "            if lev.distance(query_word,utt_word)<=thres_distance:\n",
    "                dic['correct_words'].append(utt_word)\n",
    "                dic['correct_dtw'].append(min_dtw)\n",
    "                correct_dtw_score.append(min_dtw)\n",
    "                #dic['time']=dtw_costs.index(min_dtw)*3/100\n",
    "                #length = len(dtw_costs)*3/100\n",
    "                #sweep_original = qbe.dtw_sweep(np.float64(query[\"data\"]), np.float64(speech_utt[uttr][\"data\"]))\n",
    "                #plt.plot(sweep_original,color='green')\n",
    "                #print('{:<20}'.format(utt_word), end=' ')\n",
    "                #print('{:<20}'.format(query_word), end=' ')\n",
    "                #print(\"%0.3f\" % min_dtw, end='\\t\\t')\n",
    "                #print(dic['time'], length)\n",
    "                hasMatch = True\n",
    "                #print('spotted_words:')\n",
    "                #print(query_word,min_dtw)\n",
    "                #play(query['audio'])\n",
    "                #play(speech_utt[uttr][\"audio\"])\n",
    "                break\n",
    "                \n",
    "        if hasMatch == False:\n",
    "            dic['incorrect_words'].append(query_word)\n",
    "            dic['incorrect_dtw'].append(min_dtw)\n",
    "            incorrect_dtw_score.append(min_dtw)\n",
    "            #print('incorrect_words:')\n",
    "            #print(query_word,min_dtw)        \n",
    "        \n",
    "    num_uttword += len(utt_sent)\n",
    "    #num_prediction += len(match)\n",
    "    num_match += len(dic['correct_words'])\n",
    "    num_nomatch += len(dic['incorrect_words'])\n",
    "    \n",
    "    #prediction.sort(key = sortThird)\n",
    "    #prediction.sort(key = sortSecond)\n",
    "    #print(speech_utt[uttr]['word'])\n",
    "    #for w in prediction:\n",
    "        #string = str('|%0.1f'% w[1])+'s|'+str(w[0])+str('|DTW:%0.3f|'% w[2])\n",
    "        #left = string.rjust(int(20*w[1]+len(string)),'-')\n",
    "        #full = left.ljust(int(20*length),'-')\n",
    "        #print(full,end='|\\n')\n",
    "        #print(int(10*spotted[1])*' '+ spotted[0] +' '+ str(\"%0.3f\" % spotted[1])+int(10*spotted[3])*' '+'|')\n",
    "    #print('\\n')\n",
    "    #word_recognition_rate, precision, recall = get_score(num_uttword, num_spotted, num_prediction, num_unspotted)\n",
    "    \n",
    "    result.append(dic)\n",
    "#    if len(correct_dtw_score)>0:\n",
    "#        print('\\nCorrect DTW Average:', end=' ')\n",
    "#        print(mean(correct_dtw_score))\n",
    "#    print('Incorrect DTW Average:', end=' ')\n",
    "#    print(mean(incorrect_dtw_score))\n",
    "#    print('\\n') \n",
    "print('\\nCorrect DTW Average:', end=' ')\n",
    "print(mean(correct_dtw_score))\n",
    "print('Incorrect DTW Average:', end=' ')\n",
    "print(mean(incorrect_dtw_score))\n",
    "print('Number of Matching Words:', end=' ')\n",
    "print(num_match)\n",
    "print('Done\\n') "
   ]
  },
  {
   "cell_type": "code",
   "execution_count": 38,
   "metadata": {},
   "outputs": [
    {
     "name": "stdout",
     "output_type": "stream",
     "text": [
      "\n",
      "Correct DTW Average: 0.24357946005053716\n",
      "Incorrect DTW Average: 0.3868489479261498\n",
      "Number of Total Words: 206\n",
      "Number of Match Words: 111\n"
     ]
    }
   ],
   "source": [
    "print('\\nCorrect DTW Average:', end=' ')\n",
    "print(mean(correct_dtw_score))\n",
    "print('Incorrect DTW Average:', end=' ')\n",
    "print(mean(incorrect_dtw_score))\n",
    "print('Number of Total Words:', end=' ')\n",
    "print(num_uttword)\n",
    "print('Number of Match Words:', end=' ')\n",
    "print(num_match)"
   ]
  },
  {
   "cell_type": "code",
   "execution_count": 39,
   "metadata": {},
   "outputs": [
    {
     "data": {
      "image/png": "[encoded data removed]",
      "text/plain": [
       "<Figure size 432x288 with 1 Axes>"
      ]
     },
     "metadata": {
      "needs_background": "light"
     },
     "output_type": "display_data"
    }
   ],
   "source": [
    "import matplotlib.pyplot as plt\n",
    "import seaborn as sns\n",
    "\n",
    "sns.kdeplot(correct_dtw_score, shade=True, linewidth = 3, label = 'Correct words')\n",
    "sns.kdeplot(incorrect_dtw_score, shade=True, linewidth = 3, label = 'Incorrect words')\n",
    "    \n",
    "# Plot formatting\n",
    "plt.legend(prop={'size': 12})\n",
    "plt.title('Search Query DTW Cost ' + plot_title)\n",
    "plt.xlabel('DTW Cost')\n",
    "plt.ylabel('Density')\n",
    "plt.savefig(ftitle+'_dtw.png', dpi=400)"
   ]
  },
  {
   "cell_type": "code",
   "execution_count": 40,
   "metadata": {},
   "outputs": [],
   "source": [
    "def get_score(dtw_threshold, match_dtw_score, nomatch_dtw_score, word_count):\n",
    "    num_spotted = len(list(filter(lambda x: x < dtw_threshold, match_dtw_score)))\n",
    "    num_uttword = word_count\n",
    "    num_incorrect = len(list(filter(lambda x: x < dtw_threshold, nomatch_dtw_score)))\n",
    "    #print(num_spotted, num_incorrect)\n",
    "    num_match = num_incorrect + num_spotted\n",
    "    num_unspotted = len(match_dtw_score) - num_spotted\n",
    "    \n",
    "   #print(num_spotted, num_uttword, num_incorrect, num_match, num_unspotted)\n",
    "       \n",
    "    #word_recognition_rate = num_spotted/num_uttword\n",
    "    precision = num_spotted/num_match\n",
    "    recall = num_spotted/(num_spotted+num_unspotted)\n",
    "   #print(word_recognition_rate, precision, recall)\n",
    "    return precision, recall"
   ]
  },
  {
   "cell_type": "markdown",
   "metadata": {},
   "source": [
    "## Get Precisions and Recalls"
   ]
  },
  {
   "cell_type": "code",
   "execution_count": 45,
   "metadata": {},
   "outputs": [
    {
     "name": "stdout",
     "output_type": "stream",
     "text": [
      "206\n",
      "DTW: 0.31207946005052745\n",
      "Precision: 0.6698113207547169\n",
      "Recall: 0.6396396396396397\n",
      "Max F1: 0.6543778801843319\n"
     ]
    },
    {
     "data": {
      "image/png": "[encoded data removed]",
      "text/plain": [
       "<Figure size 432x288 with 1 Axes>"
      ]
     },
     "metadata": {
      "needs_background": "light"
     },
     "output_type": "display_data"
    }
   ],
   "source": [
    "from matplotlib.pyplot import plot, title, xlabel, ylabel, savefig, legend, ylim\n",
    "from numpy import array, arange\n",
    "\n",
    "dtw_performance = []\n",
    "dtw_threshold = []\n",
    "max_f1 = 0\n",
    "\n",
    "word_count = 0\n",
    "for uttr in result:\n",
    "    word_count += len(uttr['sentence'])\n",
    "print(word_count)   \n",
    "\n",
    "hasFoundRecall = False\n",
    "for i in arange(mean(correct_dtw_score)-0.02,mean(incorrect_dtw_score),0.0001):\n",
    "    p, r = get_score(i, correct_dtw_score, incorrect_dtw_score, word_count)\n",
    "    f1 = 2*((p*r)/(p+r))\n",
    "    if f1>max_f1:\n",
    "        max_f1=f1\n",
    "        default_dtw = i\n",
    "        best_p = p\n",
    "        best_r = r\n",
    "    dtw_performance.append((p,r))\n",
    "    dtw_threshold.append(i)\n",
    "    \n",
    "print('DTW: '+str(default_dtw)+'\\nPrecision: '+str(best_p)+'\\nRecall: '+str(best_r))\n",
    "print('Max F1: '+str(max_f1))\n",
    "dtw_threshold = array(dtw_threshold) \n",
    "#print(dtw_performance)\n",
    "#print(dtw_threshold)\n",
    "\n",
    "#recognised, \n",
    "precision, recall = zip(*dtw_performance)\n",
    "colors_and_labels = (\n",
    "   # (recognised, 'green', 'rate'),\n",
    "    (precision, 'grey', 'precision'),\n",
    "    (recall, 'orange', 'recall')\n",
    ")\n",
    "\n",
    "for performance, color, label in colors_and_labels:\n",
    "    plot(dtw_threshold, array(performance), color=color, label=label)\n",
    "title('Precision & Recall vs DTW '+plot_title)\n",
    "xlabel('DTW cost')\n",
    "ylabel('Rate')\n",
    "ylim(0,1)\n",
    "legend()\n",
    "\n",
    "savefig(ftitle+'_accuracy.png', dpi=400)"
   ]
  },
  {
   "cell_type": "code",
   "execution_count": 46,
   "metadata": {},
   "outputs": [
    {
     "name": "stdout",
     "output_type": "stream",
     "text": [
      "Utterance: \tyolyolme njale-ken Bininj, ngurri-re Bushwalk njale-ken\n",
      "Spotted Words:\tnjaleken yolyolme \n",
      "False Positive:\t\n",
      "Failed to Spot:\t\n",
      "\n",
      "Utterance: \tngarri-djal-re wanjh, ngarri-re\n",
      "Spotted Words:\t\n",
      "False Positive:\t\n",
      "Failed to Spot:\twanjh \n",
      "\n",
      "Utterance: \tkun-wale kumekke wurdwurd kabirri-nan\n",
      "Spotted Words:\tkabirrinan wurdwurd \n",
      "False Positive:\tkarrme ngarrinan \n",
      "Failed to Spot:\t\n",
      "\n",
      "Utterance: \tngurlken ngarri-re\n",
      "Spotted Words:\tngurlken ngurlken \n",
      "False Positive:\tmanih \n",
      "Failed to Spot:\t\n",
      "\n",
      "Utterance: \tba bu yerre yiman kayime kabirri-bolbme\n",
      "Spotted Words:\tkabirribolbme yerre yiman \n",
      "False Positive:\tkabirri \n",
      "Failed to Spot:\tkayime \n",
      "\n",
      "Utterance: \tngandi-nan ngadberre kun-wale kabirri-nan\n",
      "Spotted Words:\t\n",
      "False Positive:\tkabirri ngarriwam \n",
      "Failed to Spot:\tkabirrinan ngadberre \n",
      "\n",
      "Utterance: \twanjh kabirri-m-mang kabirri karrme bedman-wali\n",
      "Spotted Words:\tbedmanwali kabirri karrme \n",
      "False Positive:\tyiman \n",
      "Failed to Spot:\twanjh \n",
      "\n",
      "Utterance: \tbu yiman kayime ngad wanjh ngarri-kohbanjmen \n",
      "Spotted Words:\tkayime yiman \n",
      "False Positive:\tkarrme \n",
      "Failed to Spot:\tngarrikohbanjmen wanjh \n",
      "\n",
      "Utterance: \tyiman kayime wanjh bolkki\n",
      "Spotted Words:\tbolkki wanjh yiman \n",
      "False Positive:\t\n",
      "Failed to Spot:\tkayime \n",
      "\n",
      "Utterance: \tnamekke ngarri-re nawu\n",
      "Spotted Words:\t\n",
      "False Positive:\t\n",
      "Failed to Spot:\tnamekke \n",
      "\n",
      "Utterance: \tngurlken kabirri-nan wurdwurd ngarrben-kan\n",
      "Spotted Words:\tkabirrinan ngurlken ngurlken wurdwurd \n",
      "False Positive:\tbolkki kabirri \n",
      "Failed to Spot:\t\n",
      "\n",
      "Utterance: \tkabirri-nan wanjh kabirri-bolbme\n",
      "Spotted Words:\tkabirribolbme \n",
      "False Positive:\tkabirri \n",
      "Failed to Spot:\tkabirrinan wanjh \n",
      "\n",
      "Utterance: \tkun-wale kandi-wale-nan\n",
      "Spotted Words:\t\n",
      "False Positive:\t\n",
      "Failed to Spot:\t\n",
      "\n",
      "Utterance: \tyiman kayime nawu ngarri-rengeh-re ngurlken\n",
      "Spotted Words:\tkayime ngurlken ngurlken \n",
      "False Positive:\tbolkki \n",
      "Failed to Spot:\tyiman \n",
      "\n",
      "Utterance: \tKumarrirnbang kondah bod\n",
      "Spotted Words:\t\n",
      "False Positive:\tngarriwam \n",
      "Failed to Spot:\t\n",
      "\n",
      "Utterance: \tngarri-wam namekke wanjh kabirri-nan\n",
      "Spotted Words:\tngarriwam \n",
      "False Positive:\t\n",
      "Failed to Spot:\tkabirrinan namekke wanjh \n",
      "\n",
      "Utterance: \tkabirri-nan kabirri-bolbme\n",
      "Spotted Words:\tkabirribolbme kabirrinan \n",
      "False Positive:\t\n",
      "Failed to Spot:\t\n",
      "\n",
      "Utterance: \twurdwurd ngadberre yiman kayime\n",
      "Spotted Words:\tkayime wurdwurd yiman \n",
      "False Positive:\t\n",
      "Failed to Spot:\tngadberre \n",
      "\n",
      "Utterance: \tdabborrabbolk but dabborrabbolk a little bit... kabirri-jal-mayahme\n",
      "Spotted Words:\tdabborrabbolk \n",
      "False Positive:\tkabirri \n",
      "Failed to Spot:\t\n",
      "\n",
      "Utterance: \tbut korroko nakka birri-rayinj\n",
      "Spotted Words:\t\n",
      "False Positive:\t\n",
      "Failed to Spot:\t\n",
      "\n",
      "Utterance: \tdjarreh, yiman kayime kun-red kun-red\n",
      "Spotted Words:\tkayime kunred yiman \n",
      "False Positive:\tkarrme \n",
      "Failed to Spot:\t\n",
      "\n",
      "Utterance: \tbirri-yuwirrinj ngurlge-ng\n",
      "Spotted Words:\t\n",
      "False Positive:\t\n",
      "Failed to Spot:\t\n",
      "\n",
      "Utterance: \tbolkki wanjh, manekke ngarrben-bukkan ngad\n",
      "Spotted Words:\tmanekke ngarrbenbukkan \n",
      "False Positive:\tkarrme \n",
      "Failed to Spot:\tbolkki wanjh \n",
      "\n",
      "Utterance: \tkabirri-nan kunwale\n",
      "Spotted Words:\t\n",
      "False Positive:\t\n",
      "Failed to Spot:\tkabirrinan \n",
      "\n",
      "Utterance: \twurdwurd ngadberre\n",
      "Spotted Words:\twurdwurd \n",
      "False Positive:\t\n",
      "Failed to Spot:\tngadberre \n",
      "\n",
      "Utterance: \tkabirri-wern-bolbme\n",
      "Spotted Words:\t\n",
      "False Positive:\tkabirribolbme \n",
      "Failed to Spot:\t\n",
      "\n",
      "Utterance: \tdja mak yiman kayime Kun-mayali kabirri-karrme\n",
      "Spotted Words:\tyiman \n",
      "False Positive:\tbolkkime kabirri kabirribolbme karrme \n",
      "Failed to Spot:\tkayime \n",
      "\n",
      "Utterance: \tkun-debui kunekke-ken\n",
      "Spotted Words:\t\n",
      "False Positive:\tmanekke \n",
      "Failed to Spot:\t\n",
      "\n",
      "Utterance: \tkabirri-bolbme ngadberre wurdwurd\n",
      "Spotted Words:\tkabirribolbme wurdwurd \n",
      "False Positive:\tbolkkime kabirri \n",
      "Failed to Spot:\tngadberre \n",
      "\n",
      "Utterance: \tbu kumekke Manawukan ngarri-di kun-kare\n",
      "Spotted Words:\tngarridi \n",
      "False Positive:\tmanih yiman \n",
      "Failed to Spot:\t\n",
      "\n",
      "Utterance: \tkunukka bu nga-wam pre-school but\n",
      "Spotted Words:\t\n",
      "False Positive:\t\n",
      "Failed to Spot:\t\n",
      "\n",
      "Utterance: \tminj nawern-rayinj\n",
      "Spotted Words:\tnawernrayinj \n",
      "False Positive:\t\n",
      "Failed to Spot:\t\n",
      "\n",
      "Utterance: \tkore ku-kimuk\n",
      "Spotted Words:\t\n",
      "False Positive:\t\n",
      "Failed to Spot:\t\n",
      "\n",
      "Utterance: \twanjh na-kohbanj\n",
      "Spotted Words:\tnakohbanj \n",
      "False Positive:\t\n",
      "Failed to Spot:\twanjh \n",
      "\n",
      "Utterance: \tngan-mey ngan-kan-ng ngadberre\n",
      "Spotted Words:\tngadberre \n",
      "False Positive:\t\n",
      "Failed to Spot:\t\n",
      "\n",
      "Utterance: \tbush ngarri-wam\n",
      "Spotted Words:\tngarriwam \n",
      "False Positive:\t\n",
      "Failed to Spot:\t\n",
      "\n",
      "Utterance: \tkumekke ngarri-di\n",
      "Spotted Words:\t\n",
      "False Positive:\t\n",
      "Failed to Spot:\tngarridi \n",
      "\n",
      "Utterance: \tnani wanjh bolkkime nga-yolyolme\n",
      "Spotted Words:\tbolkkime ngayolyolme \n",
      "False Positive:\t\n",
      "Failed to Spot:\twanjh \n",
      "\n",
      "Utterance: \tyiman kayime\n",
      "Spotted Words:\tkayime yiman \n",
      "False Positive:\tkarrme \n",
      "Failed to Spot:\t\n",
      "\n",
      "Utterance: \tngurlken nawu bolkkime\n",
      "Spotted Words:\tbolkkime ngurlken ngurlken \n",
      "False Positive:\t\n",
      "Failed to Spot:\t\n",
      "\n",
      "Utterance: \tngarrben-bukkan namekke\n",
      "Spotted Words:\tnamekke ngarrbenbukkan \n",
      "False Positive:\t\n",
      "Failed to Spot:\t\n",
      "\n",
      "Utterance: \tngarri-nan kabirri-nan\n",
      "Spotted Words:\tkabirrinan ngarrinan \n",
      "False Positive:\t\n",
      "Failed to Spot:\t\n",
      "\n",
      "Utterance: \tdabborrabbolk dja mak wurdwurd\n",
      "Spotted Words:\twurdwurd \n",
      "False Positive:\tbolkkime \n",
      "Failed to Spot:\tdabborrabbolk \n",
      "\n",
      "Utterance: \tyiman kayime wanjh kabirri-bolbme\n",
      "Spotted Words:\tkabirribolbme yiman \n",
      "False Positive:\tkabirri \n",
      "Failed to Spot:\tkayime wanjh \n",
      "\n",
      "Utterance: \tngad wanjh, yiman kayime ngarri-kohbanjmen wanjh bedman-wali\n",
      "Spotted Words:\tbedmanwali ngarrikohbanjmen yiman \n",
      "False Positive:\tkarrme manih ngarriwam \n",
      "Failed to Spot:\tkayime wanjh wanjh \n",
      "\n",
      "Utterance: \tkun-wale kumekke kabirri-nan\n",
      "Spotted Words:\t\n",
      "False Positive:\t\n",
      "Failed to Spot:\tkabirrinan \n",
      "\n",
      "Utterance: \twanjh yerre yerre yiman bu kayime\n",
      "Spotted Words:\tkayime yiman \n",
      "False Positive:\t\n",
      "Failed to Spot:\twanjh yerre yerre \n",
      "\n",
      "Utterance: \tbedman kabirri-re ngulrken\n",
      "Spotted Words:\tbedman \n",
      "False Positive:\tngarrinan \n",
      "Failed to Spot:\t\n",
      "\n",
      "Utterance: \tbolkki wanjh, kabirri-nan manekke\n",
      "Spotted Words:\tbolkki kabirrinan \n",
      "False Positive:\t\n",
      "Failed to Spot:\tmanekke wanjh \n",
      "\n",
      "Utterance: \tLetter stick manih birri-yaw-djadjke-meninj \n",
      "Spotted Words:\tmanih \n",
      "False Positive:\t\n",
      "Failed to Spot:\t\n",
      "\n",
      "Utterance: \twanjh, birri-munkewe-meninj\n",
      "Spotted Words:\tbirrimunkewemeninj \n",
      "False Positive:\tyiman \n",
      "Failed to Spot:\twanjh \n",
      "\n",
      "Utterance: \tkore kun-red kun-red\n",
      "Spotted Words:\tkunred \n",
      "False Positive:\t\n",
      "Failed to Spot:\t\n",
      "\n",
      "Utterance: \tmanih wanjh manu\n",
      "Spotted Words:\t\n",
      "False Positive:\t\n",
      "Failed to Spot:\tmanih wanjh \n",
      "\n",
      "Utterance: \tngarri-re bushwalk bu\n",
      "Spotted Words:\t\n",
      "False Positive:\t\n",
      "Failed to Spot:\t\n",
      "\n",
      "Utterance: \tba bu ngarri-bolbme\n",
      "Spotted Words:\t\n",
      "False Positive:\t\n",
      "Failed to Spot:\t\n",
      "\n",
      "Utterance: \tngad dabborrabbolk dja wurdwurd\n",
      "Spotted Words:\t\n",
      "False Positive:\tmanih \n",
      "Failed to Spot:\tdabborrabbolk wurdwurd \n",
      "\n"
     ]
    }
   ],
   "source": [
    "for uttr_id in range(len(speech_utt)):\n",
    "    spotted_words = []\n",
    "    false_words = []\n",
    "    fail_to_spot = []\n",
    "    match = set()\n",
    "    close_words = set()\n",
    "    for query in word_list:        \n",
    "        query_word = query[\"word\"].lower()\n",
    "        query_mfcc = np.float64(query[\"data\"])\n",
    "        search_mfcc = np.float64(speech_utt[uttr_id][\"data\"])\n",
    "        dtw_costs = qbe.dtw_sweep(query_mfcc, search_mfcc)\n",
    "        min_dtw = np.min(dtw_costs)\n",
    "        utt_sent = word_tokenize(speech_utt[uttr_id]['word'].lower().replace('-',''))\n",
    "        hasMatch = False               \n",
    "\n",
    "        for utt_word in utt_sent:\n",
    "            if min_dtw < default_dtw:\n",
    "                if lev.distance(query_word,utt_word)<=thres_distance:\n",
    "                    spotted_words.append(utt_word)\n",
    "                    hasMatch = True\n",
    "                    #print('Correct:')\n",
    "                    #print(query_word)\n",
    "                    break\n",
    "            else:\n",
    "                if lev.distance(query_word,utt_word)<=thres_distance:\n",
    "                    #print(query_word,utt_word)\n",
    "                    fail_to_spot.append(utt_word)\n",
    "                    #play(query[\"audio\"])\n",
    "                    #play(speech_utt[uttr_id][\"audio\"])\n",
    "                \n",
    "        if hasMatch == False and min_dtw < default_dtw:\n",
    "            false_words.append(query_word) \n",
    "                #print('Incorrect:')\n",
    "                #print(query_word)\n",
    "        \n",
    "                #print('Fail to Spot:')\n",
    "                #print(query_word)\n",
    "\n",
    "    print('Utterance: \\t'+speech_utt[uttr_id]['word'])\n",
    "    print('Spotted Words:', end='\\t')\n",
    "    for word in spotted_words:\n",
    "        print(word, end=' ') \n",
    "    print('\\nFalse Positive:', end='\\t')\n",
    "    for word in false_words:\n",
    "        print(word, end=' ')\n",
    "    print('\\nFailed to Spot:', end='\\t')\n",
    "    for word in fail_to_spot:\n",
    "        print(word, end=' ')\n",
    "    print('\\n') \n"
   ]
  },
  {
   "cell_type": "markdown",
   "metadata": {},
   "source": [
    "## Save Data"
   ]
  },
  {
   "cell_type": "code",
   "execution_count": 47,
   "metadata": {},
   "outputs": [],
   "source": [
    "data = {}\n",
    "data['result'] = result\n",
    "data['match_dtw'] = correct_dtw_score\n",
    "data['nomatch_dtw'] = incorrect_dtw_score\n",
    "data['precision']= best_p\n",
    "data['recall'] = best_r\n",
    "data['dtw']= default_dtw\n",
    "data['maxf1']= max_f1"
   ]
  },
  {
   "cell_type": "code",
   "execution_count": 48,
   "metadata": {},
   "outputs": [],
   "source": [
    "with open(ftitle+'.data', 'wb') as filehandle:\n",
    "    pickle.dump(data, filehandle)"
   ]
  },
  {
   "cell_type": "code",
   "execution_count": null,
   "metadata": {},
   "outputs": [],
   "source": []
  }
 ],
 "metadata": {
  "kernelspec": {
   "display_name": "Python 3",
   "language": "python",
   "name": "python3"
  },
  "language_info": {
   "codemirror_mode": {
    "name": "ipython",
    "version": 3
   },
   "file_extension": ".py",
   "mimetype": "text/x-python",
   "name": "python",
   "nbconvert_exporter": "python",
   "pygments_lexer": "ipython3",
   "version": "3.7.6"
  }
 },
 "nbformat": 4,
 "nbformat_minor": 4
}
