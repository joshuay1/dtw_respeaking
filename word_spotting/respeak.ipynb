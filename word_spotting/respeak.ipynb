{
 "cells": [
  {
   "cell_type": "markdown",
   "metadata": {},
   "source": [
    "# Query-by-Example (QbE) Search Using DTW"
   ]
  },
  {
   "cell_type": "markdown",
   "metadata": {},
   "source": [
    "## Preliminary"
   ]
  },
  {
   "cell_type": "code",
   "execution_count": 1,
   "metadata": {},
   "outputs": [],
   "source": [
    "%matplotlib inline\n",
    "%load_ext autoreload\n",
    "%autoreload 2"
   ]
  },
  {
   "cell_type": "code",
   "execution_count": 2,
   "metadata": {},
   "outputs": [
    {
     "name": "stderr",
     "output_type": "stream",
     "text": [
      "/home/josh/miniconda3/lib/python3.7/site-packages/pydub/utils.py:165: RuntimeWarning: Couldn't find ffmpeg or avconv - defaulting to ffmpeg, but may not work\n",
      "  warn(\"Couldn't find ffmpeg or avconv - defaulting to ffmpeg, but may not work\", RuntimeWarning)\n",
      "/home/josh/miniconda3/lib/python3.7/site-packages/pydub/utils.py:179: RuntimeWarning: Couldn't find ffplay or avplay - defaulting to ffplay, but may not work\n",
      "  warn(\"Couldn't find ffplay or avplay - defaulting to ffplay, but may not work\", RuntimeWarning)\n"
     ]
    }
   ],
   "source": [
    "from __future__ import division\n",
    "from __future__ import print_function\n",
    "from os import path\n",
    "from python_speech_features import delta\n",
    "from python_speech_features import mfcc\n",
    "import glob\n",
    "import matplotlib.pyplot as plt\n",
    "import numpy as np\n",
    "import scipy.io.wavfile as wav\n",
    "import sys\n",
    "import simpleaudio as sa\n",
    "from pydub import AudioSegment\n",
    "from pydub.playback import play\n",
    "from shennong.audio import Audio\n",
    "from shennong.features.processor.mfcc import MfccProcessor\n",
    "from shennong.features.postprocessor.delta import DeltaPostProcessor\n",
    "from shennong.features.postprocessor.cmvn import CmvnPostProcessor\n",
    "\n",
    "sys.path.append(\"..\")\n",
    "sys.path.append(path.join(\"..\", \"utils\"))\n",
    "\n",
    "from speech_dtw import qbe"
   ]
  },
  {
   "cell_type": "markdown",
   "metadata": {},
   "source": [
    "## Extract features"
   ]
  },
  {
   "cell_type": "code",
   "execution_count": 24,
   "metadata": {},
   "outputs": [],
   "source": [
    "def get_mfcc_dd(wav_fn):\n",
    "    \"\"\"Return the MFCCs with deltas and delta-deltas for a audio file.\"\"\"\n",
    "    audio = Audio.load(wav_fn)\n",
    "    processor = MfccProcessor(sample_rate=audio.sample_rate, window_type=\"hamming\",frame_length=0.025, frame_shift=0.01,\n",
    "                              cepstral_lifter=26.0,low_freq=0, vtln_low=60, vtln_high=7200, high_freq=audio.sample_rate/2)\n",
    "    d_processor = DeltaPostProcessor(order=2)\n",
    "    mfcc_static = processor.process(audio.channel(0), vtln_warp=1.0)\n",
    "    mfcc_deltas = d_processor.process(mfcc_static)\n",
    "    features = np.float64(mfcc_deltas._to_dict()[\"data\"])\n",
    "    features = (features - np.mean(features, axis=0)) / np.std(features, axis=0)\n",
    "    return features"
   ]
  },
  {
   "cell_type": "markdown",
   "metadata": {},
   "source": [
    "## Take Common English Words"
   ]
  },
  {
   "cell_type": "code",
   "execution_count": 25,
   "metadata": {},
   "outputs": [
    {
     "name": "stdout",
     "output_type": "stream",
     "text": [
      "one word use said time way many write would like long make thing see two look day could go come number sound people know water call first may side find new work part take get place made live back little round man year came show every good give name form sentence great think say help low line differ turn cause much mean move right boy old tell set three want air well also play small end put home read hand port large spell add even land must big high follow act ask men change went light kind need house picture "
     ]
    }
   ],
   "source": [
    "import json# Grab spoken lexicon and return word, crop and duration of the word\n",
    "txt_file = open(\"english_words/common_words_100.txt\", \"r\")\n",
    "word_dict = txt_file.read().split(' ')\n",
    "common_word_list = []\n",
    "i = 0\n",
    "for wav_fn in sorted(glob.glob(path.join(\"english_words/common\", \"common_word_??.wav\"))):\n",
    "    rate, signal = wav.read(wav_fn)\n",
    "    length = len(signal) / rate * 1000\n",
    "    query_mfcc = get_mfcc_dd(wav_fn)\n",
    "    query = {}\n",
    "    print(word_dict[i], end=' ')\n",
    "    query[\"length\"] = length\n",
    "    query[\"data\"] = query_mfcc\n",
    "    query[\"word\"] = word_dict[i]\n",
    "    query[\"audio\"] = AudioSegment.from_file(wav_fn, format=\"wav\")\n",
    "    query[\"thres\"] = 1\n",
    "    #play(query[\"audio\"])\n",
    "    common_word_list.append(query)\n",
    "    i+=1"
   ]
  },
  {
   "cell_type": "code",
   "execution_count": 27,
   "metadata": {},
   "outputs": [
    {
     "name": "stdout",
     "output_type": "stream",
     "text": [
      "aboriginal australia australians imagine us indigenous people cannot think things know justice world say recognise much non year torres strait social injustice see well history identity many australian reality done "
     ]
    }
   ],
   "source": [
    "txt_file = open(\"english_words/redfern_words_30.txt\", \"r\")\n",
    "word_dict = txt_file.read().split(' ')\n",
    "redfern_word_list = []\n",
    "i = 0\n",
    "for wav_fn in sorted(glob.glob(path.join(\"english_words/redfern\", \"redfern_word_??.wav\"))):\n",
    "    rate, signal = wav.read(wav_fn)\n",
    "    length = len(signal) / rate * 1000\n",
    "    query_mfcc = get_mfcc_dd(wav_fn)\n",
    "    query = {}\n",
    "    print(word_dict[i], end=' ')\n",
    "    query[\"length\"] = length\n",
    "    query[\"data\"] = query_mfcc\n",
    "    query[\"word\"] = word_dict[i]\n",
    "    query[\"audio\"] = AudioSegment.from_file(wav_fn, format=\"wav\")\n",
    "    query[\"thres\"] = 1\n",
    "    #play(query[\"audio\"])\n",
    "    redfern_word_list.append(query)\n",
    "    i+=1"
   ]
  },
  {
   "cell_type": "code",
   "execution_count": 28,
   "metadata": {},
   "outputs": [
    {
     "name": "stdout",
     "output_type": "stream",
     "text": [
      "done\n"
     ]
    }
   ],
   "source": [
    "print(redfern_word_list[29][\"word\"])\n",
    "play(redfern_word_list[29][\"audio\"])"
   ]
  },
  {
   "cell_type": "code",
   "execution_count": 30,
   "metadata": {},
   "outputs": [
    {
     "name": "stdout",
     "output_type": "stream",
     "text": [
      "utterances/redfern_rspk_00.wav utterances/redfern_rspk_01.wav utterances/redfern_rspk_02.wav utterances/redfern_rspk_03.wav utterances/redfern_rspk_04.wav utterances/redfern_rspk_05.wav utterances/redfern_rspk_06.wav utterances/redfern_rspk_07.wav utterances/redfern_rspk_08.wav utterances/redfern_rspk_09.wav utterances/redfern_rspk_10.wav utterances/redfern_rspk_11.wav utterances/redfern_rspk_12.wav utterances/redfern_rspk_13.wav utterances/redfern_rspk_14.wav utterances/redfern_rspk_15.wav utterances/redfern_rspk_16.wav utterances/redfern_rspk_17.wav utterances/redfern_rspk_18.wav utterances/redfern_rspk_19.wav utterances/redfern_rspk_20.wav utterances/redfern_rspk_21.wav utterances/redfern_rspk_22.wav utterances/redfern_rspk_23.wav utterances/redfern_rspk_24.wav utterances/redfern_rspk_25.wav utterances/redfern_rspk_26.wav utterances/redfern_rspk_27.wav utterances/redfern_rspk_28.wav utterances/redfern_rspk_29.wav utterances/redfern_rspk_30.wav utterances/redfern_rspk_31.wav utterances/redfern_rspk_32.wav utterances/redfern_rspk_33.wav utterances/redfern_rspk_34.wav utterances/redfern_rspk_35.wav utterances/redfern_rspk_36.wav utterances/redfern_rspk_37.wav utterances/redfern_rspk_38.wav utterances/redfern_rspk_39.wav utterances/redfern_rspk_40.wav utterances/redfern_rspk_41.wav utterances/redfern_rspk_42.wav utterances/redfern_rspk_43.wav utterances/redfern_rspk_44.wav utterances/redfern_rspk_45.wav utterances/redfern_rspk_46.wav utterances/redfern_rspk_47.wav utterances/redfern_rspk_48.wav utterances/redfern_rspk_49.wav utterances/redfern_rspk_50.wav utterances/redfern_rspk_51.wav utterances/redfern_rspk_52.wav utterances/redfern_rspk_53.wav utterances/redfern_rspk_54.wav utterances/redfern_rspk_55.wav utterances/redfern_rspk_56.wav utterances/redfern_rspk_57.wav utterances/redfern_rspk_58.wav utterances/redfern_rspk_59.wav utterances/redfern_rspk_60.wav utterances/redfern_rspk_61.wav utterances/redfern_rspk_62.wav utterances/redfern_rspk_63.wav utterances/redfern_rspk_64.wav utterances/redfern_rspk_65.wav utterances/redfern_rspk_66.wav utterances/redfern_rspk_67.wav utterances/redfern_rspk_68.wav utterances/redfern_rspk_69.wav utterances/redfern_rspk_70.wav utterances/redfern_rspk_71.wav utterances/redfern_rspk_72.wav utterances/redfern_rspk_73.wav utterances/redfern_rspk_74.wav utterances/redfern_rspk_75.wav utterances/redfern_rspk_76.wav utterances/redfern_rspk_77.wav utterances/redfern_rspk_78.wav utterances/redfern_rspk_79.wav utterances/redfern_rspk_80.wav utterances/redfern_rspk_81.wav utterances/redfern_rspk_82.wav utterances/redfern_rspk_83.wav utterances/redfern_rspk_84.wav utterances/redfern_rspk_85.wav utterances/redfern_rspk_86.wav utterances/redfern_rspk_87.wav utterances/redfern_rspk_88.wav utterances/redfern_rspk_89.wav utterances/redfern_rspk_90.wav utterances/redfern_rspk_91.wav utterances/redfern_rspk_92.wav utterances/redfern_rspk_93.wav utterances/redfern_rspk_94.wav utterances/redfern_rspk_95.wav utterances/redfern_rspk_96.wav utterances/redfern_rspk_97.wav utterances/redfern_rspk_98.wav utterances/redfern_rspk_99.wav utterances/redfern_rspk_100.wav utterances/redfern_rspk_101.wav utterances/redfern_rspk_102.wav utterances/redfern_rspk_103.wav utterances/redfern_rspk_104.wav utterances/redfern_rspk_105.wav utterances/redfern_rspk_106.wav utterances/redfern_rspk_107.wav utterances/redfern_rspk_108.wav utterances/redfern_rspk_109.wav utterances/redfern_rspk_110.wav utterances/redfern_rspk_111.wav "
     ]
    }
   ],
   "source": [
    "redfern_rspk = []\n",
    "for wav_fn in sorted(glob.glob(path.join(\"utterances\", \"redfern_rspk_??.wav\"))):\n",
    "    print(wav_fn, end=\" \")\n",
    "    dic = {}\n",
    "    dic[\"file\"] = AudioSegment.from_file(wav_fn, format=\"wav\")\n",
    "    dic[\"data\"] = get_mfcc_dd(wav_fn)\n",
    "    redfern_rspk.append(dic)\n",
    "    \n",
    "for wav_fn in sorted(glob.glob(path.join(\"utterances\", \"redfern_rspk_???.wav\"))):\n",
    "    print(wav_fn, end=\" \")\n",
    "    dic = {}\n",
    "    dic[\"file\"] = AudioSegment.from_file(wav_fn, format=\"wav\")\n",
    "    dic[\"data\"] = get_mfcc_dd(wav_fn)\n",
    "    redfern_rspk.append(dic)"
   ]
  },
  {
   "cell_type": "code",
   "execution_count": null,
   "metadata": {},
   "outputs": [],
   "source": [
    "sweep_original = qbe.dtw_sweep(redfern_word_list[0][\"audio\"], redfern_rspk[2])\n",
    "plt.plot(sweep_original,color='green')\n",
    "play(common_word_list[0]['audio'])\n",
    "play(rudd_original_wav[0])"
   ]
  },
  {
   "cell_type": "code",
   "execution_count": null,
   "metadata": {},
   "outputs": [],
   "source": []
  }
 ],
 "metadata": {
  "kernelspec": {
   "display_name": "Python 3",
   "language": "python",
   "name": "python3"
  },
  "language_info": {
   "codemirror_mode": {
    "name": "ipython",
    "version": 3
   },
   "file_extension": ".py",
   "mimetype": "text/x-python",
   "name": "python",
   "nbconvert_exporter": "python",
   "pygments_lexer": "ipython3",
   "version": "3.7.6"
  }
 },
 "nbformat": 4,
 "nbformat_minor": 4
}
