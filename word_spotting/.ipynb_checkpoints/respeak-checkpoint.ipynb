{
 "cells": [
  {
   "cell_type": "markdown",
   "metadata": {},
   "source": [
    "# Query-by-Example (QbE) Search Using DTW"
   ]
  },
  {
   "cell_type": "markdown",
   "metadata": {},
   "source": [
    "## Preliminary"
   ]
  },
  {
   "cell_type": "code",
   "execution_count": 20,
   "metadata": {},
   "outputs": [
    {
     "name": "stdout",
     "output_type": "stream",
     "text": [
      "The autoreload extension is already loaded. To reload it, use:\n",
      "  %reload_ext autoreload\n"
     ]
    }
   ],
   "source": [
    "%matplotlib inline\n",
    "%load_ext autoreload\n",
    "%autoreload 2"
   ]
  },
  {
   "cell_type": "code",
   "execution_count": 21,
   "metadata": {},
   "outputs": [
    {
     "name": "stderr",
     "output_type": "stream",
     "text": [
      "[nltk_data] Downloading package punkt to /home/josh/nltk_data...\n",
      "[nltk_data]   Package punkt is already up-to-date!\n"
     ]
    }
   ],
   "source": [
    "from __future__ import division\n",
    "from __future__ import print_function\n",
    "from os import path\n",
    "from python_speech_features import delta\n",
    "from python_speech_features import mfcc\n",
    "import glob\n",
    "import matplotlib.pyplot as plt\n",
    "import numpy as np\n",
    "import scipy.io.wavfile as wav\n",
    "import sys\n",
    "import simpleaudio as sa\n",
    "from pydub import AudioSegment\n",
    "from pydub.playback import play\n",
    "from shennong.audio import Audio\n",
    "from shennong.features.processor.mfcc import MfccProcessor\n",
    "from shennong.features.postprocessor.delta import DeltaPostProcessor\n",
    "from shennong.features.postprocessor.cmvn import CmvnPostProcessor\n",
    "from progress.bar import Bar\n",
    "from datetime import datetime\n",
    "from nltk import word_tokenize\n",
    "import nltk\n",
    "nltk.download('punkt')\n",
    "import Levenshtein as lev\n",
    "import pickle\n",
    "\n",
    "sys.path.append(\"..\")\n",
    "sys.path.append(path.join(\"..\", \"utils\"))\n",
    "\n",
    "from speech_dtw import qbe"
   ]
  },
  {
   "cell_type": "markdown",
   "metadata": {},
   "source": [
    "## Extract features"
   ]
  },
  {
   "cell_type": "code",
   "execution_count": 22,
   "metadata": {},
   "outputs": [],
   "source": [
    "def get_mfcc_dd(wav_fn):\n",
    "    \"\"\"Return the MFCCs with deltas and delta-deltas for a audio file.\"\"\"\n",
    "    audio = Audio.load(wav_fn)\n",
    "    processor = MfccProcessor(sample_rate=audio.sample_rate, window_type=\"hamming\",frame_length=0.025, frame_shift=0.01,\n",
    "                              cepstral_lifter=26.0,low_freq=0, vtln_low=60, vtln_high=7200, high_freq=audio.sample_rate/2)\n",
    "    d_processor = DeltaPostProcessor(order=2)\n",
    "    mfcc_static = processor.process(audio.channel(1), vtln_warp=1.0)\n",
    "    mfcc_deltas = d_processor.process(mfcc_static)\n",
    "    #print(mfcc_static.shape, mfcc_deltas.shape)\n",
    "    features = mfcc_deltas._to_dict()[\"data\"]\n",
    "    features = (features - np.mean(features, axis=0)) / np.std(features, axis=0)\n",
    "    #print(features.shape)\n",
    "    return features"
   ]
  },
  {
   "cell_type": "code",
   "execution_count": 23,
   "metadata": {},
   "outputs": [],
   "source": [
    "common_words_txt = 'english_words/common_words_500.txt'\n",
    "common_words_dir = 'english_words/500_common'\n",
    "common_word_wav = 'common_word_*.wav'\n",
    "topic_words_txt = 'english_words/redfern_words.txt'\n",
    "topic_words_dir = 'english_words/redfern'\n",
    "topic_word_wav = 'redfern_words_*.wav'\n",
    "target_speech_dir = 'utterances'\n",
    "target_speech_txt = 'redfern_rspk_*.txt'\n",
    "target_speech_wav = 'redfern_rspk_*.wav'"
   ]
  },
  {
   "cell_type": "markdown",
   "metadata": {},
   "source": [
    "## Take Common Words"
   ]
  },
  {
   "cell_type": "code",
   "execution_count": 25,
   "metadata": {},
   "outputs": [
    {
     "name": "stdout",
     "output_type": "stream",
     "text": [
      "the and of to that in it is you we was for my are with have on they as be this all people from So about at but me not there up she or what an her had our by will out them their when Aboriginal like were can your he us if has time Australia been do just way because more which know very one isn't things would then think into those Indigenous his how who said say these Lord children also over first go now really back before come country get shall much world life see place make where no actually even years around book came day could home than Australian every well down two right might got water want look men man need through different something other good work didn’t old take him went any did great after land new made only some took never too most course story lot health many same landscape find may still little memory tell mean here part done Mum always thou give once high long let culture found feel son own put next thought understand off family moment novel away again three heart communities language often bit myself launch example am set name should words side pass help everything later call house past few big risk point between ask person told seven God city talk someone remember hard love sense information another sea use sure end upon felt write until last social why better important kids history turn mother non issues night war since each able hand must ever father kind death self school thee quite across services best without while given leave ships live move keep fact left does today mind brought wasn't against sorry whole knowledge week writer early become nothing learn saw wrong real free air thy under number enough case far started woman read longer walk anything knew isn’t show doctor though future pain behind nation else group along maybe research heard Pacific head idea sound English both terms believe Government seem sat began face stand light hear less months care yet hope earth held learnt beginning sort four human wrote imagine space news stop full child ourselves beautiful form safety car second cause taken soon cannot yes swim close teach university particular okay brain strong watching river small reality happen guess international page power Sydney six spent lost morning Torres Strait nineteen pretty trying such change ago sent returned traditional location deal evidence doesn’t add almost identity flying relationship view certain yeah friends test met among common written open recognise boy situation seen elders absolutely obviously stuff couldn’t law wouldn’t town author round thousands sun fire follow mainstream wonder twenty truth white young problem line gave fear thanks run South north decided already bad order window sing therefore exactly proud sometimes gone themselves probably throughout nature build instead yourself picture lucky conversation wait based black racism meet blood joy late dream fighting public neither fine Islander whatever within complex generation connection Melbourne during reason safe area (53, 39)\n"
     ]
    }
   ],
   "source": [
    "import json# Grab spoken lexicon and return word, crop and duration of the word\n",
    "txt_file = open(common_words_txt, \"r\")\n",
    "word_dict = txt_file.read().split(' ')\n",
    "common_word_list = []\n",
    "i = 0\n",
    "for wav_fn in sorted(glob.glob(path.join(common_words_dir, common_word_wav))):\n",
    "    rate, signal = wav.read(wav_fn)\n",
    "    length = len(signal) / rate * 1000\n",
    "    query_mfcc = get_mfcc_dd(wav_fn)\n",
    "    query = {}\n",
    "    print(word_dict[i], end=' ')\n",
    "    query[\"length\"] = length\n",
    "    query[\"data\"] = query_mfcc\n",
    "    query[\"word\"] = word_dict[i]\n",
    "    query[\"audio\"] = AudioSegment.from_file(wav_fn, format=\"wav\")\n",
    "    query[\"thres\"] = 1\n",
    "    #play(query[\"audio\"])\n",
    "    common_word_list.append(query)\n",
    "    i+=1\n",
    "print(len(common_word_list))"
   ]
  },
  {
   "cell_type": "markdown",
   "metadata": {},
   "source": [
    "## Take Topic Words"
   ]
  },
  {
   "cell_type": "code",
   "execution_count": 6,
   "metadata": {},
   "outputs": [
    {
     "name": "stdout",
     "output_type": "stream",
     "text": [
      "Aboriginal Australia people imagine justice Indigenous recognise Torres Strait social history identity reality beginning failed failure dispossessed Council opportunity fundamental democracy contained problems recognition prejudice living culture generation Islander committed knowledge contemporary demoralisation opponents remarkable traditional ignorance Commission practical partnership continent settlement contributions participation environment confident\n",
      " "
     ]
    }
   ],
   "source": [
    "txt_file = open(topic_words_txt , \"r\")\n",
    "word_dict = txt_file.read().split(' ')\n",
    "redfern_word_list = []\n",
    "i = 0\n",
    "for wav_fn in sorted(glob.glob(path.join(\"english_words/redfern\", \"redfern_words_??.wav\"))):\n",
    "    rate, signal = wav.read(wav_fn)\n",
    "    length = len(signal) / rate * 1000\n",
    "    query_mfcc = get_mfcc_dd(wav_fn)\n",
    "    query = {}\n",
    "    print(word_dict[i], end=' ')\n",
    "    query[\"length\"] = length\n",
    "    query[\"data\"] = query_mfcc\n",
    "    query[\"word\"] = word_dict[i]\n",
    "    query[\"audio\"] = AudioSegment.from_file(wav_fn, format=\"wav\")\n",
    "    query[\"thres\"] = 1\n",
    "    #play(query[\"audio\"])\n",
    "    redfern_word_list.append(query)\n",
    "    i+=1"
   ]
  },
  {
   "cell_type": "markdown",
   "metadata": {},
   "source": [
    "## Take Common English Words"
   ]
  },
  {
   "cell_type": "code",
   "execution_count": null,
   "metadata": {},
   "outputs": [],
   "source": []
  },
  {
   "cell_type": "code",
   "execution_count": 7,
   "metadata": {},
   "outputs": [
    {
     "name": "stdout",
     "output_type": "stream",
     "text": [
      "imagine\n"
     ]
    }
   ],
   "source": [
    "print(redfern_word_list[3][\"word\"])\n",
    "play(redfern_word_list[3][\"audio\"])\n",
    "#print(query[\"data\"].shape)"
   ]
  },
  {
   "cell_type": "code",
   "execution_count": 26,
   "metadata": {},
   "outputs": [
    {
     "name": "stdout",
     "output_type": "stream",
     "text": [
      "This is a fundamental test of our social goals and our national will:\n"
     ]
    }
   ],
   "source": [
    "redfern_rspk = []\n",
    "for wav_fn in sorted(glob.glob(path.join(target_speech_dir, target_speech_wav))):\n",
    "    dic = {}\n",
    "    dic[\"audio\"] = AudioSegment.from_file(wav_fn, format=\"wav\")\n",
    "    dic[\"data\"] = get_mfcc_dd(wav_fn)\n",
    "    redfern_rspk.append(dic)\n",
    "    \n",
    "redfern_rspk_txt = []\n",
    "for txt in sorted(glob.glob(path.join(target_speech_dir, target_speech_txt))):\n",
    "    txt_file = open(txt, \"r\")\n",
    "    transcript = txt_file.read()\n",
    "    redfern_rspk_txt.append(transcript)    \n",
    "\n",
    "print(redfern_rspk_txt[5])  \n",
    "play(redfern_rspk[5]['audio'])"
   ]
  },
  {
   "cell_type": "code",
   "execution_count": 27,
   "metadata": {},
   "outputs": [
    {
     "name": "stdout",
     "output_type": "stream",
     "text": [
      "(94, 39) (477, 39)\n"
     ]
    },
    {
     "data": {
      "image/png": "[encoded data removed]",
      "text/plain": [
       "<Figure size 432x288 with 1 Axes>"
      ]
     },
     "metadata": {
      "needs_background": "light"
     },
     "output_type": "display_data"
    }
   ],
   "source": [
    "print(redfern_word_list[1][\"data\"].shape, redfern_rspk[2][\"data\"].shape)\n",
    "#print(redfern_word_list[1][\"data\"], redfern_rspk[2][\"data\"])\n",
    "#print(np.float64(redfern_word_list[1][\"data\"]), np.float64(redfern_rspk[2][\"data\"]))\n",
    "sweep_original = qbe.dtw_sweep(np.float64(redfern_word_list[1][\"data\"]), np.float64(redfern_rspk[2][\"data\"]))\n",
    "plt.plot(sweep_original,color='green')\n",
    "play(redfern_word_list[1]['audio'])\n",
    "play(redfern_rspk[2][\"audio\"])"
   ]
  },
  {
   "cell_type": "code",
   "execution_count": 28,
   "metadata": {},
   "outputs": [
    {
     "name": "stdout",
     "output_type": "stream",
     "text": [
      "100\n"
     ]
    }
   ],
   "source": [
    "print(len(redfern_rspk))"
   ]
  },
  {
   "cell_type": "code",
   "execution_count": 29,
   "metadata": {},
   "outputs": [],
   "source": [
    "def get_score(num_uttword, num_spotted, num_match, num_unspotted):\n",
    "    word_recognition_rate = num_spotted/num_uttword\n",
    "    precision = num_spotted/num_match\n",
    "    recall = num_spotted/(num_spotted+num_unspotted)\n",
    "    return word_recognition_rate, precision, recall"
   ]
  },
  {
   "cell_type": "code",
   "execution_count": null,
   "metadata": {},
   "outputs": [
    {
     "name": "stdout",
     "output_type": "stream",
     "text": [
      "Utterance: \tLadies and gentlemen.\n",
      "Spotted Words:\t\n",
      "False Positive:\t\n",
      "Failed to Spot:\tand \n",
      "\n"
     ]
    }
   ],
   "source": [
    "from tqdm import tqdm\n",
    "result = []\n",
    "num_uttword = 0.01\n",
    "num_spotted = 0.01 \n",
    "num_prediction = 0.01\n",
    "num_unspotted = 0.01\n",
    "thres_distance = 1\n",
    "common_words_penalty = 1.2\n",
    "\n",
    "bar = Bar('Searching for words', max=(len(redfern_rspk)*len(common_word_list)))\n",
    "for uttr in range(0,len(redfern_rspk)):\n",
    "    dic = {}\n",
    "    dic['spotted_words'] = set()\n",
    "    dic['incorrect_words'] = set()\n",
    "    dic['unspotted_words'] = set()\n",
    "    match = set()\n",
    "    close_words = set()\n",
    "    for query in tqdm(range(0,len(common_word_list))):        \n",
    "        query_word = common_word_list[query][\"word\"].lower()\n",
    "        query_mfcc = np.float64(common_word_list[query][\"data\"])\n",
    "        search_mfcc = np.float64(redfern_rspk[uttr][\"data\"])\n",
    "        dtw_costs = qbe.dtw_sweep(query_mfcc, search_mfcc)\n",
    "        min_dtw = np.min(dtw_costs)\n",
    "        utt_sent = word_tokenize(redfern_rspk_txt[uttr].lower())\n",
    "        hasMatch = False\n",
    "        \n",
    "        if (min_dtw*common_words_penalty < 0.30):\n",
    "            match.add(query_word)\n",
    "            for utt_word in utt_sent:\n",
    "                dist = lev.distance(query_word,utt_word)\n",
    "                #print(query_word,utt_word,dist)\n",
    "                if dist<=thres_distance:\n",
    "                    #if dist > 0:\n",
    "                        #print(query_word,utt_word)\n",
    "                    dic['spotted_words'].add(utt_word)\n",
    "                    hasMatch = True \n",
    "                    break\n",
    "            if hasMatch == False:\n",
    "                dic['incorrect_words'].add(query_word)\n",
    "        else:\n",
    "            if query_word in utt_sent:\n",
    "                dic['unspotted_words'].add(query_word)\n",
    "        bar.next()\n",
    "        \n",
    "    num_uttword += len(nltk.FreqDist(utt_sent))\n",
    "    num_prediction += len(match)\n",
    "    num_spotted += len(dic['spotted_words'])\n",
    "    num_unspotted += len(dic['unspotted_words'])\n",
    "\n",
    "    print('Utterance: \\t'+redfern_rspk_txt[uttr])\n",
    "    print('Spotted Words:', end='\\t')\n",
    "#    for query_word ,word in close_words:\n",
    "#        print('('+query_word+', '+word+')', end=' ')  \n",
    "    for word in dic['spotted_words']:\n",
    "        print(word, end=' ') \n",
    "    print('\\nFalse Positive:', end='\\t')\n",
    "    for word in dic['incorrect_words']:\n",
    "        print(word, end=' ')\n",
    "    print('\\nFailed to Spot:', end='\\t')\n",
    "    for word in dic['unspotted_words']:\n",
    "        print(word, end=' ')\n",
    "    print('\\n') \n",
    "    word_recognition_rate, precision, recall = get_score(num_uttword, num_spotted, num_prediction, num_unspotted)     \n",
    "    result.append(dic)\n",
    "    \n",
    "print('\\nCoverage: \\t'+str(word_recognition_rate))\n",
    "print('Precision: \\t'+str(precision))\n",
    "print('Recall: \\t'+str(recall))\n",
    "print('\\n') \n",
    "bar.finish()"
   ]
  },
  {
   "cell_type": "code",
   "execution_count": 15,
   "metadata": {},
   "outputs": [
    {
     "name": "stdout",
     "output_type": "stream",
     "text": [
      "{'strait', 'australia', 'torres', 'aboriginal', 'opportunity', 'people'}\n"
     ]
    }
   ],
   "source": [
    "print(result[4]['spotted_words'])"
   ]
  },
  {
   "cell_type": "code",
   "execution_count": 14,
   "metadata": {},
   "outputs": [
    {
     "name": "stdout",
     "output_type": "stream",
     "text": [
      "1931.01 190.01 295.01 14.01\n"
     ]
    }
   ],
   "source": [
    "print(num_uttword, num_spotted, num_prediction, num_unspotted)"
   ]
  },
  {
   "cell_type": "code",
   "execution_count": 17,
   "metadata": {},
   "outputs": [],
   "source": [
    "with open('redfern_rspk_topic_words.data', 'wb') as filehandle:\n",
    "    pickle.dump(result, filehandle)"
   ]
  },
  {
   "cell_type": "code",
   "execution_count": null,
   "metadata": {},
   "outputs": [],
   "source": []
  }
 ],
 "metadata": {
  "kernelspec": {
   "display_name": "Python 3",
   "language": "python",
   "name": "python3"
  },
  "language_info": {
   "codemirror_mode": {
    "name": "ipython",
    "version": 3
   },
   "file_extension": ".py",
   "mimetype": "text/x-python",
   "name": "python",
   "nbconvert_exporter": "python",
   "pygments_lexer": "ipython3",
   "version": "3.7.6"
  }
 },
 "nbformat": 4,
 "nbformat_minor": 4
}
