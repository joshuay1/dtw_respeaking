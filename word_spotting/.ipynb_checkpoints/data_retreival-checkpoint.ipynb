{
 "cells": [
  {
   "cell_type": "code",
   "execution_count": null,
   "metadata": {},
   "outputs": [],
   "source": [
    "import pandas as pd\n",
    "import matplotlib.pyplot as plt\n",
    "import seaborn as sns\n",
    "from matplotlib.pyplot import plot, title, xlabel, ylabel, savefig, legend, ylim\n",
    "from numpy import array, arange\n",
    "from statistics import mean\n",
    "\n",
    "\n",
    "ftitle = '500_common_words_with_respeaking'\n",
    "plot_title = ' (500 Common Words + Respeaking)'\n",
    "x = pd.read_pickle(ftitle+'.data')"
   ]
  },
  {
   "cell_type": "code",
   "execution_count": null,
   "metadata": {},
   "outputs": [],
   "source": [
    "word_count = 0\n",
    "target_speech_dir = 'redfern_rspk'\n",
    "target_speech_txt = 'redfern_*.txt'\n",
    "for txt_fn in sorted(glob.glob(path.join(target_speech_dir, target_speech_txt))):\n",
    "    #dic = {}\n",
    "    #dic[\"audio\"] = AudioSegment.from_file(wav_fn, format=\"wav\")\n",
    "    #dic[\"data\"] = get_mfcc_dd(wav_fn)\n",
    "    txt_file = open(txt_fn, \"r\")\n",
    "    sent = txt_file.read()\n",
    "    word_count += len(sent)\n",
    "print(word_count)  \n",
    "#play(speech_utt[5]['audio'])"
   ]
  },
  {
   "cell_type": "code",
   "execution_count": null,
   "metadata": {},
   "outputs": [],
   "source": [
    "def get_score(dtw_threshold, match_dtw_score, nomatch_dtw_score, word_count):\n",
    "    num_spotted = len(list(filter(lambda x: x < dtw_threshold, match_dtw_score)))\n",
    "    num_uttword = word_count\n",
    "    num_incorrect = len(list(filter(lambda x: x < dtw_threshold, nomatch_dtw_score)))\n",
    "    #print(num_spotted, num_incorrect)\n",
    "    num_match = num_incorrect + num_spotted\n",
    "    num_unspotted = len(match_dtw_score) - num_spotted\n",
    "    \n",
    "   #print(num_spotted, num_uttword, num_incorrect, num_match, num_unspotted)\n",
    "       \n",
    "    #word_recognition_rate = num_spotted/num_uttword\n",
    "    precision = num_spotted/num_match\n",
    "    recall = num_spotted/(num_spotted+num_unspotted)\n",
    "   #print(word_recognition_rate, precision, recall)\n",
    "    return precision, recall"
   ]
  },
  {
   "cell_type": "code",
   "execution_count": null,
   "metadata": {},
   "outputs": [],
   "source": [
    "dtw_performance = []\n",
    "dtw_threshold = []\n",
    "max_f1 = 0\n",
    "\n",
    "hasFoundRecall = False\n",
    "for i in arange(mean(x['match_dtw'])-0.08,mean(x['nomatch_dtw'])-0.02,0.0001):\n",
    "    p, r = get_score(i, x['match_dtw'], x['nomatch_dtw'], word_count)\n",
    "    f1 = 2*((p*r)/(p+r))\n",
    "    if f1>max_f1:\n",
    "        max_f1=f1\n",
    "        default_dtw = i\n",
    "        best_p = p\n",
    "        best_r = r\n",
    "    dtw_performance.append((p,r))\n",
    "    dtw_threshold.append(i)\n",
    "    \n",
    "print('DTW: '+str(default_dtw)+'\\nPrecision: '+str(best_p)+'\\nRecall: '+str(best_r))\n",
    "print('Max F1: '+str(max_f1))\n",
    "dtw_threshold = array(dtw_threshold) \n",
    "#print(dtw_performance)\n",
    "#print(dtw_threshold)\n",
    "\n",
    "#recognised, \n",
    "precision, recall = zip(*dtw_performance)\n",
    "colors_and_labels = (\n",
    "   # (recognised, 'green', 'rate'),\n",
    "    (precision, 'grey', 'precision'),\n",
    "    (recall, 'orange', 'recall')\n",
    ")\n",
    "\n",
    "for performance, color, label in colors_and_labels:\n",
    "    plot(dtw_threshold, array(performance), color=color, label=label)\n",
    "title('Precision & Recall vs DTW '+plot_title)\n",
    "xlabel('DTW cost')\n",
    "ylabel('Rate')\n",
    "ylim(0,1)\n",
    "legend()\n",
    "\n",
    "savefig(ftitle+'_accuracy.png', dpi=400)"
   ]
  },
  {
   "cell_type": "code",
   "execution_count": null,
   "metadata": {},
   "outputs": [],
   "source": [
    "\n",
    "sns.kdeplot(x['match_dtw'], shade=True, linewidth = 3, label = 'Correct words')\n",
    "sns.kdeplot(x['nomatch_dtw'], shade=True, linewidth = 3, label = 'Incorrect words')\n",
    "    \n",
    "# Plot formatting\n",
    "plt.legend(prop={'size': 12})\n",
    "plt.title('Search Query DTW Cost ' + plot_title)\n",
    "plt.xlabel('DTW Cost')\n",
    "plt.ylabel('Density')\n",
    "plt.savefig(ftitle+'_dtw.png', dpi=400)"
   ]
  }
 ],
 "metadata": {
  "kernelspec": {
   "display_name": "Python 3",
   "language": "python",
   "name": "python3"
  },
  "language_info": {
   "codemirror_mode": {
    "name": "ipython",
    "version": 3
   },
   "file_extension": ".py",
   "mimetype": "text/x-python",
   "name": "python",
   "nbconvert_exporter": "python",
   "pygments_lexer": "ipython3",
   "version": "3.7.6"
  }
 },
 "nbformat": 4,
 "nbformat_minor": 4
}
